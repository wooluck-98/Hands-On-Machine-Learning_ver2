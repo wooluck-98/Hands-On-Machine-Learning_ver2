{
  "nbformat": 4,
  "nbformat_minor": 0,
  "metadata": {
    "kernelspec": {
      "name": "python3",
      "display_name": "Python 3"
    },
    "colab": {
      "name": "16장 RNN과 어텐션을 사용한 자연어 처리.ipynb",
      "provenance": []
    },
    "accelerator": "GPU",
    "widgets": {
      "application/vnd.jupyter.widget-state+json": {
        "5e6ab88427c646daa4939536dcefc498": {
          "model_module": "@jupyter-widgets/controls",
          "model_name": "HBoxModel",
          "state": {
            "_view_name": "HBoxView",
            "_dom_classes": [],
            "_model_name": "HBoxModel",
            "_view_module": "@jupyter-widgets/controls",
            "_model_module_version": "1.5.0",
            "_view_count": null,
            "_view_module_version": "1.5.0",
            "box_style": "",
            "layout": "IPY_MODEL_c3737a4a9c624109b7b25c522a7fb012",
            "_model_module": "@jupyter-widgets/controls",
            "children": [
              "IPY_MODEL_6e3ff3b3f17e484ba3e976d9ab5dac78",
              "IPY_MODEL_28cc733c2b414040b6dd4f645a284e5c"
            ]
          }
        },
        "c3737a4a9c624109b7b25c522a7fb012": {
          "model_module": "@jupyter-widgets/base",
          "model_name": "LayoutModel",
          "state": {
            "_view_name": "LayoutView",
            "grid_template_rows": null,
            "right": null,
            "justify_content": null,
            "_view_module": "@jupyter-widgets/base",
            "overflow": null,
            "_model_module_version": "1.2.0",
            "_view_count": null,
            "flex_flow": null,
            "width": null,
            "min_width": null,
            "border": null,
            "align_items": null,
            "bottom": null,
            "_model_module": "@jupyter-widgets/base",
            "top": null,
            "grid_column": null,
            "overflow_y": null,
            "overflow_x": null,
            "grid_auto_flow": null,
            "grid_area": null,
            "grid_template_columns": null,
            "flex": null,
            "_model_name": "LayoutModel",
            "justify_items": null,
            "grid_row": null,
            "max_height": null,
            "align_content": null,
            "visibility": null,
            "align_self": null,
            "height": null,
            "min_height": null,
            "padding": null,
            "grid_auto_rows": null,
            "grid_gap": null,
            "max_width": null,
            "order": null,
            "_view_module_version": "1.2.0",
            "grid_template_areas": null,
            "object_position": null,
            "object_fit": null,
            "grid_auto_columns": null,
            "margin": null,
            "display": null,
            "left": null
          }
        },
        "6e3ff3b3f17e484ba3e976d9ab5dac78": {
          "model_module": "@jupyter-widgets/controls",
          "model_name": "FloatProgressModel",
          "state": {
            "_view_name": "ProgressView",
            "style": "IPY_MODEL_82cbd31116b847c69ff37d8ad4bdab49",
            "_dom_classes": [],
            "description": "Dl Completed...: 100%",
            "_model_name": "FloatProgressModel",
            "bar_style": "success",
            "max": 1,
            "_view_module": "@jupyter-widgets/controls",
            "_model_module_version": "1.5.0",
            "value": 1,
            "_view_count": null,
            "_view_module_version": "1.5.0",
            "orientation": "horizontal",
            "min": 0,
            "description_tooltip": null,
            "_model_module": "@jupyter-widgets/controls",
            "layout": "IPY_MODEL_a01112cfc4474d789f2e1ac5fc9a65b2"
          }
        },
        "28cc733c2b414040b6dd4f645a284e5c": {
          "model_module": "@jupyter-widgets/controls",
          "model_name": "HTMLModel",
          "state": {
            "_view_name": "HTMLView",
            "style": "IPY_MODEL_3f9f8700c0a44af598802ab2c3fbfe89",
            "_dom_classes": [],
            "description": "",
            "_model_name": "HTMLModel",
            "placeholder": "​",
            "_view_module": "@jupyter-widgets/controls",
            "_model_module_version": "1.5.0",
            "value": " 1/1 [00:04&lt;00:00,  4.27s/ url]",
            "_view_count": null,
            "_view_module_version": "1.5.0",
            "description_tooltip": null,
            "_model_module": "@jupyter-widgets/controls",
            "layout": "IPY_MODEL_ba0b7e278dc44b36aad08d6cbbd04beb"
          }
        },
        "82cbd31116b847c69ff37d8ad4bdab49": {
          "model_module": "@jupyter-widgets/controls",
          "model_name": "ProgressStyleModel",
          "state": {
            "_view_name": "StyleView",
            "_model_name": "ProgressStyleModel",
            "description_width": "initial",
            "_view_module": "@jupyter-widgets/base",
            "_model_module_version": "1.5.0",
            "_view_count": null,
            "_view_module_version": "1.2.0",
            "bar_color": null,
            "_model_module": "@jupyter-widgets/controls"
          }
        },
        "a01112cfc4474d789f2e1ac5fc9a65b2": {
          "model_module": "@jupyter-widgets/base",
          "model_name": "LayoutModel",
          "state": {
            "_view_name": "LayoutView",
            "grid_template_rows": null,
            "right": null,
            "justify_content": null,
            "_view_module": "@jupyter-widgets/base",
            "overflow": null,
            "_model_module_version": "1.2.0",
            "_view_count": null,
            "flex_flow": null,
            "width": null,
            "min_width": null,
            "border": null,
            "align_items": null,
            "bottom": null,
            "_model_module": "@jupyter-widgets/base",
            "top": null,
            "grid_column": null,
            "overflow_y": null,
            "overflow_x": null,
            "grid_auto_flow": null,
            "grid_area": null,
            "grid_template_columns": null,
            "flex": null,
            "_model_name": "LayoutModel",
            "justify_items": null,
            "grid_row": null,
            "max_height": null,
            "align_content": null,
            "visibility": null,
            "align_self": null,
            "height": null,
            "min_height": null,
            "padding": null,
            "grid_auto_rows": null,
            "grid_gap": null,
            "max_width": null,
            "order": null,
            "_view_module_version": "1.2.0",
            "grid_template_areas": null,
            "object_position": null,
            "object_fit": null,
            "grid_auto_columns": null,
            "margin": null,
            "display": null,
            "left": null
          }
        },
        "3f9f8700c0a44af598802ab2c3fbfe89": {
          "model_module": "@jupyter-widgets/controls",
          "model_name": "DescriptionStyleModel",
          "state": {
            "_view_name": "StyleView",
            "_model_name": "DescriptionStyleModel",
            "description_width": "",
            "_view_module": "@jupyter-widgets/base",
            "_model_module_version": "1.5.0",
            "_view_count": null,
            "_view_module_version": "1.2.0",
            "_model_module": "@jupyter-widgets/controls"
          }
        },
        "ba0b7e278dc44b36aad08d6cbbd04beb": {
          "model_module": "@jupyter-widgets/base",
          "model_name": "LayoutModel",
          "state": {
            "_view_name": "LayoutView",
            "grid_template_rows": null,
            "right": null,
            "justify_content": null,
            "_view_module": "@jupyter-widgets/base",
            "overflow": null,
            "_model_module_version": "1.2.0",
            "_view_count": null,
            "flex_flow": null,
            "width": null,
            "min_width": null,
            "border": null,
            "align_items": null,
            "bottom": null,
            "_model_module": "@jupyter-widgets/base",
            "top": null,
            "grid_column": null,
            "overflow_y": null,
            "overflow_x": null,
            "grid_auto_flow": null,
            "grid_area": null,
            "grid_template_columns": null,
            "flex": null,
            "_model_name": "LayoutModel",
            "justify_items": null,
            "grid_row": null,
            "max_height": null,
            "align_content": null,
            "visibility": null,
            "align_self": null,
            "height": null,
            "min_height": null,
            "padding": null,
            "grid_auto_rows": null,
            "grid_gap": null,
            "max_width": null,
            "order": null,
            "_view_module_version": "1.2.0",
            "grid_template_areas": null,
            "object_position": null,
            "object_fit": null,
            "grid_auto_columns": null,
            "margin": null,
            "display": null,
            "left": null
          }
        },
        "632410c4b14f492eb2d251b38d582ffa": {
          "model_module": "@jupyter-widgets/controls",
          "model_name": "HBoxModel",
          "state": {
            "_view_name": "HBoxView",
            "_dom_classes": [],
            "_model_name": "HBoxModel",
            "_view_module": "@jupyter-widgets/controls",
            "_model_module_version": "1.5.0",
            "_view_count": null,
            "_view_module_version": "1.5.0",
            "box_style": "",
            "layout": "IPY_MODEL_073cc1e09a5d4a719258a2aa2467efb0",
            "_model_module": "@jupyter-widgets/controls",
            "children": [
              "IPY_MODEL_f0b813d0ceab451da94220da65fe2b6e",
              "IPY_MODEL_4dd94d798b47405b89e9d9b55d676507"
            ]
          }
        },
        "073cc1e09a5d4a719258a2aa2467efb0": {
          "model_module": "@jupyter-widgets/base",
          "model_name": "LayoutModel",
          "state": {
            "_view_name": "LayoutView",
            "grid_template_rows": null,
            "right": null,
            "justify_content": null,
            "_view_module": "@jupyter-widgets/base",
            "overflow": null,
            "_model_module_version": "1.2.0",
            "_view_count": null,
            "flex_flow": null,
            "width": null,
            "min_width": null,
            "border": null,
            "align_items": null,
            "bottom": null,
            "_model_module": "@jupyter-widgets/base",
            "top": null,
            "grid_column": null,
            "overflow_y": null,
            "overflow_x": null,
            "grid_auto_flow": null,
            "grid_area": null,
            "grid_template_columns": null,
            "flex": null,
            "_model_name": "LayoutModel",
            "justify_items": null,
            "grid_row": null,
            "max_height": null,
            "align_content": null,
            "visibility": null,
            "align_self": null,
            "height": null,
            "min_height": null,
            "padding": null,
            "grid_auto_rows": null,
            "grid_gap": null,
            "max_width": null,
            "order": null,
            "_view_module_version": "1.2.0",
            "grid_template_areas": null,
            "object_position": null,
            "object_fit": null,
            "grid_auto_columns": null,
            "margin": null,
            "display": null,
            "left": null
          }
        },
        "f0b813d0ceab451da94220da65fe2b6e": {
          "model_module": "@jupyter-widgets/controls",
          "model_name": "FloatProgressModel",
          "state": {
            "_view_name": "ProgressView",
            "style": "IPY_MODEL_e8bb796e506541b19a37ab84388a5d74",
            "_dom_classes": [],
            "description": "Dl Size...: 100%",
            "_model_name": "FloatProgressModel",
            "bar_style": "success",
            "max": 1,
            "_view_module": "@jupyter-widgets/controls",
            "_model_module_version": "1.5.0",
            "value": 1,
            "_view_count": null,
            "_view_module_version": "1.5.0",
            "orientation": "horizontal",
            "min": 0,
            "description_tooltip": null,
            "_model_module": "@jupyter-widgets/controls",
            "layout": "IPY_MODEL_52d56ddc068c4857998197a4ea6f4195"
          }
        },
        "4dd94d798b47405b89e9d9b55d676507": {
          "model_module": "@jupyter-widgets/controls",
          "model_name": "HTMLModel",
          "state": {
            "_view_name": "HTMLView",
            "style": "IPY_MODEL_35efba397b204d11b0a1da2800235718",
            "_dom_classes": [],
            "description": "",
            "_model_name": "HTMLModel",
            "placeholder": "​",
            "_view_module": "@jupyter-widgets/controls",
            "_model_module_version": "1.5.0",
            "value": " 80/80 [00:04&lt;00:00, 18.86 MiB/s]",
            "_view_count": null,
            "_view_module_version": "1.5.0",
            "description_tooltip": null,
            "_model_module": "@jupyter-widgets/controls",
            "layout": "IPY_MODEL_ac1dd35e76164f13b59b9c052920c1eb"
          }
        },
        "e8bb796e506541b19a37ab84388a5d74": {
          "model_module": "@jupyter-widgets/controls",
          "model_name": "ProgressStyleModel",
          "state": {
            "_view_name": "StyleView",
            "_model_name": "ProgressStyleModel",
            "description_width": "initial",
            "_view_module": "@jupyter-widgets/base",
            "_model_module_version": "1.5.0",
            "_view_count": null,
            "_view_module_version": "1.2.0",
            "bar_color": null,
            "_model_module": "@jupyter-widgets/controls"
          }
        },
        "52d56ddc068c4857998197a4ea6f4195": {
          "model_module": "@jupyter-widgets/base",
          "model_name": "LayoutModel",
          "state": {
            "_view_name": "LayoutView",
            "grid_template_rows": null,
            "right": null,
            "justify_content": null,
            "_view_module": "@jupyter-widgets/base",
            "overflow": null,
            "_model_module_version": "1.2.0",
            "_view_count": null,
            "flex_flow": null,
            "width": null,
            "min_width": null,
            "border": null,
            "align_items": null,
            "bottom": null,
            "_model_module": "@jupyter-widgets/base",
            "top": null,
            "grid_column": null,
            "overflow_y": null,
            "overflow_x": null,
            "grid_auto_flow": null,
            "grid_area": null,
            "grid_template_columns": null,
            "flex": null,
            "_model_name": "LayoutModel",
            "justify_items": null,
            "grid_row": null,
            "max_height": null,
            "align_content": null,
            "visibility": null,
            "align_self": null,
            "height": null,
            "min_height": null,
            "padding": null,
            "grid_auto_rows": null,
            "grid_gap": null,
            "max_width": null,
            "order": null,
            "_view_module_version": "1.2.0",
            "grid_template_areas": null,
            "object_position": null,
            "object_fit": null,
            "grid_auto_columns": null,
            "margin": null,
            "display": null,
            "left": null
          }
        },
        "35efba397b204d11b0a1da2800235718": {
          "model_module": "@jupyter-widgets/controls",
          "model_name": "DescriptionStyleModel",
          "state": {
            "_view_name": "StyleView",
            "_model_name": "DescriptionStyleModel",
            "description_width": "",
            "_view_module": "@jupyter-widgets/base",
            "_model_module_version": "1.5.0",
            "_view_count": null,
            "_view_module_version": "1.2.0",
            "_model_module": "@jupyter-widgets/controls"
          }
        },
        "ac1dd35e76164f13b59b9c052920c1eb": {
          "model_module": "@jupyter-widgets/base",
          "model_name": "LayoutModel",
          "state": {
            "_view_name": "LayoutView",
            "grid_template_rows": null,
            "right": null,
            "justify_content": null,
            "_view_module": "@jupyter-widgets/base",
            "overflow": null,
            "_model_module_version": "1.2.0",
            "_view_count": null,
            "flex_flow": null,
            "width": null,
            "min_width": null,
            "border": null,
            "align_items": null,
            "bottom": null,
            "_model_module": "@jupyter-widgets/base",
            "top": null,
            "grid_column": null,
            "overflow_y": null,
            "overflow_x": null,
            "grid_auto_flow": null,
            "grid_area": null,
            "grid_template_columns": null,
            "flex": null,
            "_model_name": "LayoutModel",
            "justify_items": null,
            "grid_row": null,
            "max_height": null,
            "align_content": null,
            "visibility": null,
            "align_self": null,
            "height": null,
            "min_height": null,
            "padding": null,
            "grid_auto_rows": null,
            "grid_gap": null,
            "max_width": null,
            "order": null,
            "_view_module_version": "1.2.0",
            "grid_template_areas": null,
            "object_position": null,
            "object_fit": null,
            "grid_auto_columns": null,
            "margin": null,
            "display": null,
            "left": null
          }
        },
        "284eeca8878a4088aefde7687222d197": {
          "model_module": "@jupyter-widgets/controls",
          "model_name": "HBoxModel",
          "state": {
            "_view_name": "HBoxView",
            "_dom_classes": [],
            "_model_name": "HBoxModel",
            "_view_module": "@jupyter-widgets/controls",
            "_model_module_version": "1.5.0",
            "_view_count": null,
            "_view_module_version": "1.5.0",
            "box_style": "",
            "layout": "IPY_MODEL_28fb24acab1043efac6a4ca49775d85e",
            "_model_module": "@jupyter-widgets/controls",
            "children": [
              "IPY_MODEL_9e05595ad1204f3299eee55798e4077c",
              "IPY_MODEL_ed30792721aa4397ae0be9f8c21e34e3"
            ]
          }
        },
        "28fb24acab1043efac6a4ca49775d85e": {
          "model_module": "@jupyter-widgets/base",
          "model_name": "LayoutModel",
          "state": {
            "_view_name": "LayoutView",
            "grid_template_rows": null,
            "right": null,
            "justify_content": null,
            "_view_module": "@jupyter-widgets/base",
            "overflow": null,
            "_model_module_version": "1.2.0",
            "_view_count": null,
            "flex_flow": null,
            "width": null,
            "min_width": null,
            "border": null,
            "align_items": null,
            "bottom": null,
            "_model_module": "@jupyter-widgets/base",
            "top": null,
            "grid_column": null,
            "overflow_y": null,
            "overflow_x": null,
            "grid_auto_flow": null,
            "grid_area": null,
            "grid_template_columns": null,
            "flex": null,
            "_model_name": "LayoutModel",
            "justify_items": null,
            "grid_row": null,
            "max_height": null,
            "align_content": null,
            "visibility": null,
            "align_self": null,
            "height": null,
            "min_height": null,
            "padding": null,
            "grid_auto_rows": null,
            "grid_gap": null,
            "max_width": null,
            "order": null,
            "_view_module_version": "1.2.0",
            "grid_template_areas": null,
            "object_position": null,
            "object_fit": null,
            "grid_auto_columns": null,
            "margin": null,
            "display": null,
            "left": null
          }
        },
        "9e05595ad1204f3299eee55798e4077c": {
          "model_module": "@jupyter-widgets/controls",
          "model_name": "FloatProgressModel",
          "state": {
            "_view_name": "ProgressView",
            "style": "IPY_MODEL_87bd951a3a8549829c0f65207b9b36ed",
            "_dom_classes": [],
            "description": "",
            "_model_name": "FloatProgressModel",
            "bar_style": "info",
            "max": 1,
            "_view_module": "@jupyter-widgets/controls",
            "_model_module_version": "1.5.0",
            "value": 1,
            "_view_count": null,
            "_view_module_version": "1.5.0",
            "orientation": "horizontal",
            "min": 0,
            "description_tooltip": null,
            "_model_module": "@jupyter-widgets/controls",
            "layout": "IPY_MODEL_ea7ef6a134e5465aaac80cc9a3db1d94"
          }
        },
        "ed30792721aa4397ae0be9f8c21e34e3": {
          "model_module": "@jupyter-widgets/controls",
          "model_name": "HTMLModel",
          "state": {
            "_view_name": "HTMLView",
            "style": "IPY_MODEL_2abe39822e5f4d7db3bcbd92661a44e6",
            "_dom_classes": [],
            "description": "",
            "_model_name": "HTMLModel",
            "placeholder": "​",
            "_view_module": "@jupyter-widgets/controls",
            "_model_module_version": "1.5.0",
            "value": " 25000/0 [00:11&lt;00:00, 3884.58 examples/s]",
            "_view_count": null,
            "_view_module_version": "1.5.0",
            "description_tooltip": null,
            "_model_module": "@jupyter-widgets/controls",
            "layout": "IPY_MODEL_8043958d03eb47c4a2c7a8344e863839"
          }
        },
        "87bd951a3a8549829c0f65207b9b36ed": {
          "model_module": "@jupyter-widgets/controls",
          "model_name": "ProgressStyleModel",
          "state": {
            "_view_name": "StyleView",
            "_model_name": "ProgressStyleModel",
            "description_width": "initial",
            "_view_module": "@jupyter-widgets/base",
            "_model_module_version": "1.5.0",
            "_view_count": null,
            "_view_module_version": "1.2.0",
            "bar_color": null,
            "_model_module": "@jupyter-widgets/controls"
          }
        },
        "ea7ef6a134e5465aaac80cc9a3db1d94": {
          "model_module": "@jupyter-widgets/base",
          "model_name": "LayoutModel",
          "state": {
            "_view_name": "LayoutView",
            "grid_template_rows": null,
            "right": null,
            "justify_content": null,
            "_view_module": "@jupyter-widgets/base",
            "overflow": null,
            "_model_module_version": "1.2.0",
            "_view_count": null,
            "flex_flow": null,
            "width": null,
            "min_width": null,
            "border": null,
            "align_items": null,
            "bottom": null,
            "_model_module": "@jupyter-widgets/base",
            "top": null,
            "grid_column": null,
            "overflow_y": null,
            "overflow_x": null,
            "grid_auto_flow": null,
            "grid_area": null,
            "grid_template_columns": null,
            "flex": null,
            "_model_name": "LayoutModel",
            "justify_items": null,
            "grid_row": null,
            "max_height": null,
            "align_content": null,
            "visibility": null,
            "align_self": null,
            "height": null,
            "min_height": null,
            "padding": null,
            "grid_auto_rows": null,
            "grid_gap": null,
            "max_width": null,
            "order": null,
            "_view_module_version": "1.2.0",
            "grid_template_areas": null,
            "object_position": null,
            "object_fit": null,
            "grid_auto_columns": null,
            "margin": null,
            "display": null,
            "left": null
          }
        },
        "2abe39822e5f4d7db3bcbd92661a44e6": {
          "model_module": "@jupyter-widgets/controls",
          "model_name": "DescriptionStyleModel",
          "state": {
            "_view_name": "StyleView",
            "_model_name": "DescriptionStyleModel",
            "description_width": "",
            "_view_module": "@jupyter-widgets/base",
            "_model_module_version": "1.5.0",
            "_view_count": null,
            "_view_module_version": "1.2.0",
            "_model_module": "@jupyter-widgets/controls"
          }
        },
        "8043958d03eb47c4a2c7a8344e863839": {
          "model_module": "@jupyter-widgets/base",
          "model_name": "LayoutModel",
          "state": {
            "_view_name": "LayoutView",
            "grid_template_rows": null,
            "right": null,
            "justify_content": null,
            "_view_module": "@jupyter-widgets/base",
            "overflow": null,
            "_model_module_version": "1.2.0",
            "_view_count": null,
            "flex_flow": null,
            "width": null,
            "min_width": null,
            "border": null,
            "align_items": null,
            "bottom": null,
            "_model_module": "@jupyter-widgets/base",
            "top": null,
            "grid_column": null,
            "overflow_y": null,
            "overflow_x": null,
            "grid_auto_flow": null,
            "grid_area": null,
            "grid_template_columns": null,
            "flex": null,
            "_model_name": "LayoutModel",
            "justify_items": null,
            "grid_row": null,
            "max_height": null,
            "align_content": null,
            "visibility": null,
            "align_self": null,
            "height": null,
            "min_height": null,
            "padding": null,
            "grid_auto_rows": null,
            "grid_gap": null,
            "max_width": null,
            "order": null,
            "_view_module_version": "1.2.0",
            "grid_template_areas": null,
            "object_position": null,
            "object_fit": null,
            "grid_auto_columns": null,
            "margin": null,
            "display": null,
            "left": null
          }
        },
        "21344ffdab9d4d79a59cbc97e285ea39": {
          "model_module": "@jupyter-widgets/controls",
          "model_name": "HBoxModel",
          "state": {
            "_view_name": "HBoxView",
            "_dom_classes": [],
            "_model_name": "HBoxModel",
            "_view_module": "@jupyter-widgets/controls",
            "_model_module_version": "1.5.0",
            "_view_count": null,
            "_view_module_version": "1.5.0",
            "box_style": "",
            "layout": "IPY_MODEL_b7c604e8a50a4541a33fbc562d7672e7",
            "_model_module": "@jupyter-widgets/controls",
            "children": [
              "IPY_MODEL_2ec80d103bc44a71a5058ef7e721f3dd",
              "IPY_MODEL_9d3a7af9a15249ae84afef16820977a6"
            ]
          }
        },
        "b7c604e8a50a4541a33fbc562d7672e7": {
          "model_module": "@jupyter-widgets/base",
          "model_name": "LayoutModel",
          "state": {
            "_view_name": "LayoutView",
            "grid_template_rows": null,
            "right": null,
            "justify_content": null,
            "_view_module": "@jupyter-widgets/base",
            "overflow": null,
            "_model_module_version": "1.2.0",
            "_view_count": null,
            "flex_flow": null,
            "width": null,
            "min_width": null,
            "border": null,
            "align_items": null,
            "bottom": null,
            "_model_module": "@jupyter-widgets/base",
            "top": null,
            "grid_column": null,
            "overflow_y": null,
            "overflow_x": null,
            "grid_auto_flow": null,
            "grid_area": null,
            "grid_template_columns": null,
            "flex": null,
            "_model_name": "LayoutModel",
            "justify_items": null,
            "grid_row": null,
            "max_height": null,
            "align_content": null,
            "visibility": null,
            "align_self": null,
            "height": null,
            "min_height": null,
            "padding": null,
            "grid_auto_rows": null,
            "grid_gap": null,
            "max_width": null,
            "order": null,
            "_view_module_version": "1.2.0",
            "grid_template_areas": null,
            "object_position": null,
            "object_fit": null,
            "grid_auto_columns": null,
            "margin": null,
            "display": null,
            "left": null
          }
        },
        "2ec80d103bc44a71a5058ef7e721f3dd": {
          "model_module": "@jupyter-widgets/controls",
          "model_name": "FloatProgressModel",
          "state": {
            "_view_name": "ProgressView",
            "style": "IPY_MODEL_78aff8ca91a946d99889f6cfbf4f2d11",
            "_dom_classes": [],
            "description": " 57%",
            "_model_name": "FloatProgressModel",
            "bar_style": "danger",
            "max": 25000,
            "_view_module": "@jupyter-widgets/controls",
            "_model_module_version": "1.5.0",
            "value": 14208,
            "_view_count": null,
            "_view_module_version": "1.5.0",
            "orientation": "horizontal",
            "min": 0,
            "description_tooltip": null,
            "_model_module": "@jupyter-widgets/controls",
            "layout": "IPY_MODEL_554fd60d08544bc0ba05dfe78f4a525a"
          }
        },
        "9d3a7af9a15249ae84afef16820977a6": {
          "model_module": "@jupyter-widgets/controls",
          "model_name": "HTMLModel",
          "state": {
            "_view_name": "HTMLView",
            "style": "IPY_MODEL_05abc466511342cabb83d4cdc98b911e",
            "_dom_classes": [],
            "description": "",
            "_model_name": "HTMLModel",
            "placeholder": "​",
            "_view_module": "@jupyter-widgets/controls",
            "_model_module_version": "1.5.0",
            "value": " 14208/25000 [00:00&lt;00:00, 142078.10 examples/s]",
            "_view_count": null,
            "_view_module_version": "1.5.0",
            "description_tooltip": null,
            "_model_module": "@jupyter-widgets/controls",
            "layout": "IPY_MODEL_abfbda2058be491fb353ac6d88c03fba"
          }
        },
        "78aff8ca91a946d99889f6cfbf4f2d11": {
          "model_module": "@jupyter-widgets/controls",
          "model_name": "ProgressStyleModel",
          "state": {
            "_view_name": "StyleView",
            "_model_name": "ProgressStyleModel",
            "description_width": "initial",
            "_view_module": "@jupyter-widgets/base",
            "_model_module_version": "1.5.0",
            "_view_count": null,
            "_view_module_version": "1.2.0",
            "bar_color": null,
            "_model_module": "@jupyter-widgets/controls"
          }
        },
        "554fd60d08544bc0ba05dfe78f4a525a": {
          "model_module": "@jupyter-widgets/base",
          "model_name": "LayoutModel",
          "state": {
            "_view_name": "LayoutView",
            "grid_template_rows": null,
            "right": null,
            "justify_content": null,
            "_view_module": "@jupyter-widgets/base",
            "overflow": null,
            "_model_module_version": "1.2.0",
            "_view_count": null,
            "flex_flow": null,
            "width": null,
            "min_width": null,
            "border": null,
            "align_items": null,
            "bottom": null,
            "_model_module": "@jupyter-widgets/base",
            "top": null,
            "grid_column": null,
            "overflow_y": null,
            "overflow_x": null,
            "grid_auto_flow": null,
            "grid_area": null,
            "grid_template_columns": null,
            "flex": null,
            "_model_name": "LayoutModel",
            "justify_items": null,
            "grid_row": null,
            "max_height": null,
            "align_content": null,
            "visibility": null,
            "align_self": null,
            "height": null,
            "min_height": null,
            "padding": null,
            "grid_auto_rows": null,
            "grid_gap": null,
            "max_width": null,
            "order": null,
            "_view_module_version": "1.2.0",
            "grid_template_areas": null,
            "object_position": null,
            "object_fit": null,
            "grid_auto_columns": null,
            "margin": null,
            "display": null,
            "left": null
          }
        },
        "05abc466511342cabb83d4cdc98b911e": {
          "model_module": "@jupyter-widgets/controls",
          "model_name": "DescriptionStyleModel",
          "state": {
            "_view_name": "StyleView",
            "_model_name": "DescriptionStyleModel",
            "description_width": "",
            "_view_module": "@jupyter-widgets/base",
            "_model_module_version": "1.5.0",
            "_view_count": null,
            "_view_module_version": "1.2.0",
            "_model_module": "@jupyter-widgets/controls"
          }
        },
        "abfbda2058be491fb353ac6d88c03fba": {
          "model_module": "@jupyter-widgets/base",
          "model_name": "LayoutModel",
          "state": {
            "_view_name": "LayoutView",
            "grid_template_rows": null,
            "right": null,
            "justify_content": null,
            "_view_module": "@jupyter-widgets/base",
            "overflow": null,
            "_model_module_version": "1.2.0",
            "_view_count": null,
            "flex_flow": null,
            "width": null,
            "min_width": null,
            "border": null,
            "align_items": null,
            "bottom": null,
            "_model_module": "@jupyter-widgets/base",
            "top": null,
            "grid_column": null,
            "overflow_y": null,
            "overflow_x": null,
            "grid_auto_flow": null,
            "grid_area": null,
            "grid_template_columns": null,
            "flex": null,
            "_model_name": "LayoutModel",
            "justify_items": null,
            "grid_row": null,
            "max_height": null,
            "align_content": null,
            "visibility": null,
            "align_self": null,
            "height": null,
            "min_height": null,
            "padding": null,
            "grid_auto_rows": null,
            "grid_gap": null,
            "max_width": null,
            "order": null,
            "_view_module_version": "1.2.0",
            "grid_template_areas": null,
            "object_position": null,
            "object_fit": null,
            "grid_auto_columns": null,
            "margin": null,
            "display": null,
            "left": null
          }
        },
        "447e7a5efa374f5893d5d61e15f29557": {
          "model_module": "@jupyter-widgets/controls",
          "model_name": "HBoxModel",
          "state": {
            "_view_name": "HBoxView",
            "_dom_classes": [],
            "_model_name": "HBoxModel",
            "_view_module": "@jupyter-widgets/controls",
            "_model_module_version": "1.5.0",
            "_view_count": null,
            "_view_module_version": "1.5.0",
            "box_style": "",
            "layout": "IPY_MODEL_d16e0c1338f34d08bd877feb2fd11b08",
            "_model_module": "@jupyter-widgets/controls",
            "children": [
              "IPY_MODEL_75886ebad0584b93aef245062aee4817",
              "IPY_MODEL_8092493efdb747a1b74464c3eade3305"
            ]
          }
        },
        "d16e0c1338f34d08bd877feb2fd11b08": {
          "model_module": "@jupyter-widgets/base",
          "model_name": "LayoutModel",
          "state": {
            "_view_name": "LayoutView",
            "grid_template_rows": null,
            "right": null,
            "justify_content": null,
            "_view_module": "@jupyter-widgets/base",
            "overflow": null,
            "_model_module_version": "1.2.0",
            "_view_count": null,
            "flex_flow": null,
            "width": null,
            "min_width": null,
            "border": null,
            "align_items": null,
            "bottom": null,
            "_model_module": "@jupyter-widgets/base",
            "top": null,
            "grid_column": null,
            "overflow_y": null,
            "overflow_x": null,
            "grid_auto_flow": null,
            "grid_area": null,
            "grid_template_columns": null,
            "flex": null,
            "_model_name": "LayoutModel",
            "justify_items": null,
            "grid_row": null,
            "max_height": null,
            "align_content": null,
            "visibility": null,
            "align_self": null,
            "height": null,
            "min_height": null,
            "padding": null,
            "grid_auto_rows": null,
            "grid_gap": null,
            "max_width": null,
            "order": null,
            "_view_module_version": "1.2.0",
            "grid_template_areas": null,
            "object_position": null,
            "object_fit": null,
            "grid_auto_columns": null,
            "margin": null,
            "display": null,
            "left": null
          }
        },
        "75886ebad0584b93aef245062aee4817": {
          "model_module": "@jupyter-widgets/controls",
          "model_name": "FloatProgressModel",
          "state": {
            "_view_name": "ProgressView",
            "style": "IPY_MODEL_bf7a8b53f76c4deda99b4b2d7a4362db",
            "_dom_classes": [],
            "description": "",
            "_model_name": "FloatProgressModel",
            "bar_style": "info",
            "max": 1,
            "_view_module": "@jupyter-widgets/controls",
            "_model_module_version": "1.5.0",
            "value": 1,
            "_view_count": null,
            "_view_module_version": "1.5.0",
            "orientation": "horizontal",
            "min": 0,
            "description_tooltip": null,
            "_model_module": "@jupyter-widgets/controls",
            "layout": "IPY_MODEL_4fa86a04b92242b9a48205b2f28cdf26"
          }
        },
        "8092493efdb747a1b74464c3eade3305": {
          "model_module": "@jupyter-widgets/controls",
          "model_name": "HTMLModel",
          "state": {
            "_view_name": "HTMLView",
            "style": "IPY_MODEL_ccaddb5af2b642588f3aeca699cf25f9",
            "_dom_classes": [],
            "description": "",
            "_model_name": "HTMLModel",
            "placeholder": "​",
            "_view_module": "@jupyter-widgets/controls",
            "_model_module_version": "1.5.0",
            "value": " 25000/0 [00:11&lt;00:00, 3798.73 examples/s]",
            "_view_count": null,
            "_view_module_version": "1.5.0",
            "description_tooltip": null,
            "_model_module": "@jupyter-widgets/controls",
            "layout": "IPY_MODEL_fdad60a6b0e3411988deeea8206fec5d"
          }
        },
        "bf7a8b53f76c4deda99b4b2d7a4362db": {
          "model_module": "@jupyter-widgets/controls",
          "model_name": "ProgressStyleModel",
          "state": {
            "_view_name": "StyleView",
            "_model_name": "ProgressStyleModel",
            "description_width": "initial",
            "_view_module": "@jupyter-widgets/base",
            "_model_module_version": "1.5.0",
            "_view_count": null,
            "_view_module_version": "1.2.0",
            "bar_color": null,
            "_model_module": "@jupyter-widgets/controls"
          }
        },
        "4fa86a04b92242b9a48205b2f28cdf26": {
          "model_module": "@jupyter-widgets/base",
          "model_name": "LayoutModel",
          "state": {
            "_view_name": "LayoutView",
            "grid_template_rows": null,
            "right": null,
            "justify_content": null,
            "_view_module": "@jupyter-widgets/base",
            "overflow": null,
            "_model_module_version": "1.2.0",
            "_view_count": null,
            "flex_flow": null,
            "width": null,
            "min_width": null,
            "border": null,
            "align_items": null,
            "bottom": null,
            "_model_module": "@jupyter-widgets/base",
            "top": null,
            "grid_column": null,
            "overflow_y": null,
            "overflow_x": null,
            "grid_auto_flow": null,
            "grid_area": null,
            "grid_template_columns": null,
            "flex": null,
            "_model_name": "LayoutModel",
            "justify_items": null,
            "grid_row": null,
            "max_height": null,
            "align_content": null,
            "visibility": null,
            "align_self": null,
            "height": null,
            "min_height": null,
            "padding": null,
            "grid_auto_rows": null,
            "grid_gap": null,
            "max_width": null,
            "order": null,
            "_view_module_version": "1.2.0",
            "grid_template_areas": null,
            "object_position": null,
            "object_fit": null,
            "grid_auto_columns": null,
            "margin": null,
            "display": null,
            "left": null
          }
        },
        "ccaddb5af2b642588f3aeca699cf25f9": {
          "model_module": "@jupyter-widgets/controls",
          "model_name": "DescriptionStyleModel",
          "state": {
            "_view_name": "StyleView",
            "_model_name": "DescriptionStyleModel",
            "description_width": "",
            "_view_module": "@jupyter-widgets/base",
            "_model_module_version": "1.5.0",
            "_view_count": null,
            "_view_module_version": "1.2.0",
            "_model_module": "@jupyter-widgets/controls"
          }
        },
        "fdad60a6b0e3411988deeea8206fec5d": {
          "model_module": "@jupyter-widgets/base",
          "model_name": "LayoutModel",
          "state": {
            "_view_name": "LayoutView",
            "grid_template_rows": null,
            "right": null,
            "justify_content": null,
            "_view_module": "@jupyter-widgets/base",
            "overflow": null,
            "_model_module_version": "1.2.0",
            "_view_count": null,
            "flex_flow": null,
            "width": null,
            "min_width": null,
            "border": null,
            "align_items": null,
            "bottom": null,
            "_model_module": "@jupyter-widgets/base",
            "top": null,
            "grid_column": null,
            "overflow_y": null,
            "overflow_x": null,
            "grid_auto_flow": null,
            "grid_area": null,
            "grid_template_columns": null,
            "flex": null,
            "_model_name": "LayoutModel",
            "justify_items": null,
            "grid_row": null,
            "max_height": null,
            "align_content": null,
            "visibility": null,
            "align_self": null,
            "height": null,
            "min_height": null,
            "padding": null,
            "grid_auto_rows": null,
            "grid_gap": null,
            "max_width": null,
            "order": null,
            "_view_module_version": "1.2.0",
            "grid_template_areas": null,
            "object_position": null,
            "object_fit": null,
            "grid_auto_columns": null,
            "margin": null,
            "display": null,
            "left": null
          }
        },
        "548c1d08cc2b40bb9295d2e8330024f1": {
          "model_module": "@jupyter-widgets/controls",
          "model_name": "HBoxModel",
          "state": {
            "_view_name": "HBoxView",
            "_dom_classes": [],
            "_model_name": "HBoxModel",
            "_view_module": "@jupyter-widgets/controls",
            "_model_module_version": "1.5.0",
            "_view_count": null,
            "_view_module_version": "1.5.0",
            "box_style": "",
            "layout": "IPY_MODEL_656450e9b170493e82a83ddd8b9ac8a9",
            "_model_module": "@jupyter-widgets/controls",
            "children": [
              "IPY_MODEL_058e499937f541f3a24b3b685602a257",
              "IPY_MODEL_bd8495f505ec492d9cb179a3c7429174"
            ]
          }
        },
        "656450e9b170493e82a83ddd8b9ac8a9": {
          "model_module": "@jupyter-widgets/base",
          "model_name": "LayoutModel",
          "state": {
            "_view_name": "LayoutView",
            "grid_template_rows": null,
            "right": null,
            "justify_content": null,
            "_view_module": "@jupyter-widgets/base",
            "overflow": null,
            "_model_module_version": "1.2.0",
            "_view_count": null,
            "flex_flow": null,
            "width": null,
            "min_width": null,
            "border": null,
            "align_items": null,
            "bottom": null,
            "_model_module": "@jupyter-widgets/base",
            "top": null,
            "grid_column": null,
            "overflow_y": null,
            "overflow_x": null,
            "grid_auto_flow": null,
            "grid_area": null,
            "grid_template_columns": null,
            "flex": null,
            "_model_name": "LayoutModel",
            "justify_items": null,
            "grid_row": null,
            "max_height": null,
            "align_content": null,
            "visibility": null,
            "align_self": null,
            "height": null,
            "min_height": null,
            "padding": null,
            "grid_auto_rows": null,
            "grid_gap": null,
            "max_width": null,
            "order": null,
            "_view_module_version": "1.2.0",
            "grid_template_areas": null,
            "object_position": null,
            "object_fit": null,
            "grid_auto_columns": null,
            "margin": null,
            "display": null,
            "left": null
          }
        },
        "058e499937f541f3a24b3b685602a257": {
          "model_module": "@jupyter-widgets/controls",
          "model_name": "FloatProgressModel",
          "state": {
            "_view_name": "ProgressView",
            "style": "IPY_MODEL_a33e0e1fb46f4bbeb32aa9a494a70f56",
            "_dom_classes": [],
            "description": " 38%",
            "_model_name": "FloatProgressModel",
            "bar_style": "danger",
            "max": 25000,
            "_view_module": "@jupyter-widgets/controls",
            "_model_module_version": "1.5.0",
            "value": 9622,
            "_view_count": null,
            "_view_module_version": "1.5.0",
            "orientation": "horizontal",
            "min": 0,
            "description_tooltip": null,
            "_model_module": "@jupyter-widgets/controls",
            "layout": "IPY_MODEL_1de7aaed75dc4b2b97b711a0fc4a4639"
          }
        },
        "bd8495f505ec492d9cb179a3c7429174": {
          "model_module": "@jupyter-widgets/controls",
          "model_name": "HTMLModel",
          "state": {
            "_view_name": "HTMLView",
            "style": "IPY_MODEL_39355428379b409ca695a7dcd1f710f6",
            "_dom_classes": [],
            "description": "",
            "_model_name": "HTMLModel",
            "placeholder": "​",
            "_view_module": "@jupyter-widgets/controls",
            "_model_module_version": "1.5.0",
            "value": " 9622/25000 [00:00&lt;00:00, 96218.72 examples/s]",
            "_view_count": null,
            "_view_module_version": "1.5.0",
            "description_tooltip": null,
            "_model_module": "@jupyter-widgets/controls",
            "layout": "IPY_MODEL_2308b4fe2abc4756b8240f61cc50df49"
          }
        },
        "a33e0e1fb46f4bbeb32aa9a494a70f56": {
          "model_module": "@jupyter-widgets/controls",
          "model_name": "ProgressStyleModel",
          "state": {
            "_view_name": "StyleView",
            "_model_name": "ProgressStyleModel",
            "description_width": "initial",
            "_view_module": "@jupyter-widgets/base",
            "_model_module_version": "1.5.0",
            "_view_count": null,
            "_view_module_version": "1.2.0",
            "bar_color": null,
            "_model_module": "@jupyter-widgets/controls"
          }
        },
        "1de7aaed75dc4b2b97b711a0fc4a4639": {
          "model_module": "@jupyter-widgets/base",
          "model_name": "LayoutModel",
          "state": {
            "_view_name": "LayoutView",
            "grid_template_rows": null,
            "right": null,
            "justify_content": null,
            "_view_module": "@jupyter-widgets/base",
            "overflow": null,
            "_model_module_version": "1.2.0",
            "_view_count": null,
            "flex_flow": null,
            "width": null,
            "min_width": null,
            "border": null,
            "align_items": null,
            "bottom": null,
            "_model_module": "@jupyter-widgets/base",
            "top": null,
            "grid_column": null,
            "overflow_y": null,
            "overflow_x": null,
            "grid_auto_flow": null,
            "grid_area": null,
            "grid_template_columns": null,
            "flex": null,
            "_model_name": "LayoutModel",
            "justify_items": null,
            "grid_row": null,
            "max_height": null,
            "align_content": null,
            "visibility": null,
            "align_self": null,
            "height": null,
            "min_height": null,
            "padding": null,
            "grid_auto_rows": null,
            "grid_gap": null,
            "max_width": null,
            "order": null,
            "_view_module_version": "1.2.0",
            "grid_template_areas": null,
            "object_position": null,
            "object_fit": null,
            "grid_auto_columns": null,
            "margin": null,
            "display": null,
            "left": null
          }
        },
        "39355428379b409ca695a7dcd1f710f6": {
          "model_module": "@jupyter-widgets/controls",
          "model_name": "DescriptionStyleModel",
          "state": {
            "_view_name": "StyleView",
            "_model_name": "DescriptionStyleModel",
            "description_width": "",
            "_view_module": "@jupyter-widgets/base",
            "_model_module_version": "1.5.0",
            "_view_count": null,
            "_view_module_version": "1.2.0",
            "_model_module": "@jupyter-widgets/controls"
          }
        },
        "2308b4fe2abc4756b8240f61cc50df49": {
          "model_module": "@jupyter-widgets/base",
          "model_name": "LayoutModel",
          "state": {
            "_view_name": "LayoutView",
            "grid_template_rows": null,
            "right": null,
            "justify_content": null,
            "_view_module": "@jupyter-widgets/base",
            "overflow": null,
            "_model_module_version": "1.2.0",
            "_view_count": null,
            "flex_flow": null,
            "width": null,
            "min_width": null,
            "border": null,
            "align_items": null,
            "bottom": null,
            "_model_module": "@jupyter-widgets/base",
            "top": null,
            "grid_column": null,
            "overflow_y": null,
            "overflow_x": null,
            "grid_auto_flow": null,
            "grid_area": null,
            "grid_template_columns": null,
            "flex": null,
            "_model_name": "LayoutModel",
            "justify_items": null,
            "grid_row": null,
            "max_height": null,
            "align_content": null,
            "visibility": null,
            "align_self": null,
            "height": null,
            "min_height": null,
            "padding": null,
            "grid_auto_rows": null,
            "grid_gap": null,
            "max_width": null,
            "order": null,
            "_view_module_version": "1.2.0",
            "grid_template_areas": null,
            "object_position": null,
            "object_fit": null,
            "grid_auto_columns": null,
            "margin": null,
            "display": null,
            "left": null
          }
        },
        "4b7b0befad784309a4ec4b5fe08c10b0": {
          "model_module": "@jupyter-widgets/controls",
          "model_name": "HBoxModel",
          "state": {
            "_view_name": "HBoxView",
            "_dom_classes": [],
            "_model_name": "HBoxModel",
            "_view_module": "@jupyter-widgets/controls",
            "_model_module_version": "1.5.0",
            "_view_count": null,
            "_view_module_version": "1.5.0",
            "box_style": "",
            "layout": "IPY_MODEL_29050c3cd18349f19419ebe83e0c5eac",
            "_model_module": "@jupyter-widgets/controls",
            "children": [
              "IPY_MODEL_873ca4dbae27404eb5c621b2a4e7253b",
              "IPY_MODEL_947e658aa2f047cab3839df4041ec7be"
            ]
          }
        },
        "29050c3cd18349f19419ebe83e0c5eac": {
          "model_module": "@jupyter-widgets/base",
          "model_name": "LayoutModel",
          "state": {
            "_view_name": "LayoutView",
            "grid_template_rows": null,
            "right": null,
            "justify_content": null,
            "_view_module": "@jupyter-widgets/base",
            "overflow": null,
            "_model_module_version": "1.2.0",
            "_view_count": null,
            "flex_flow": null,
            "width": null,
            "min_width": null,
            "border": null,
            "align_items": null,
            "bottom": null,
            "_model_module": "@jupyter-widgets/base",
            "top": null,
            "grid_column": null,
            "overflow_y": null,
            "overflow_x": null,
            "grid_auto_flow": null,
            "grid_area": null,
            "grid_template_columns": null,
            "flex": null,
            "_model_name": "LayoutModel",
            "justify_items": null,
            "grid_row": null,
            "max_height": null,
            "align_content": null,
            "visibility": null,
            "align_self": null,
            "height": null,
            "min_height": null,
            "padding": null,
            "grid_auto_rows": null,
            "grid_gap": null,
            "max_width": null,
            "order": null,
            "_view_module_version": "1.2.0",
            "grid_template_areas": null,
            "object_position": null,
            "object_fit": null,
            "grid_auto_columns": null,
            "margin": null,
            "display": null,
            "left": null
          }
        },
        "873ca4dbae27404eb5c621b2a4e7253b": {
          "model_module": "@jupyter-widgets/controls",
          "model_name": "FloatProgressModel",
          "state": {
            "_view_name": "ProgressView",
            "style": "IPY_MODEL_4311305eeda7494cbc370a5cb2618e20",
            "_dom_classes": [],
            "description": "",
            "_model_name": "FloatProgressModel",
            "bar_style": "info",
            "max": 1,
            "_view_module": "@jupyter-widgets/controls",
            "_model_module_version": "1.5.0",
            "value": 1,
            "_view_count": null,
            "_view_module_version": "1.5.0",
            "orientation": "horizontal",
            "min": 0,
            "description_tooltip": null,
            "_model_module": "@jupyter-widgets/controls",
            "layout": "IPY_MODEL_b0470e9f765340168f72f2ff57e857bd"
          }
        },
        "947e658aa2f047cab3839df4041ec7be": {
          "model_module": "@jupyter-widgets/controls",
          "model_name": "HTMLModel",
          "state": {
            "_view_name": "HTMLView",
            "style": "IPY_MODEL_56facf7d6d8045d5af4e05d41f35153d",
            "_dom_classes": [],
            "description": "",
            "_model_name": "HTMLModel",
            "placeholder": "​",
            "_view_module": "@jupyter-widgets/controls",
            "_model_module_version": "1.5.0",
            "value": " 50000/0 [00:16&lt;00:00, 3866.85 examples/s]",
            "_view_count": null,
            "_view_module_version": "1.5.0",
            "description_tooltip": null,
            "_model_module": "@jupyter-widgets/controls",
            "layout": "IPY_MODEL_78be6a791b4e49968b71f9bb08c3d227"
          }
        },
        "4311305eeda7494cbc370a5cb2618e20": {
          "model_module": "@jupyter-widgets/controls",
          "model_name": "ProgressStyleModel",
          "state": {
            "_view_name": "StyleView",
            "_model_name": "ProgressStyleModel",
            "description_width": "initial",
            "_view_module": "@jupyter-widgets/base",
            "_model_module_version": "1.5.0",
            "_view_count": null,
            "_view_module_version": "1.2.0",
            "bar_color": null,
            "_model_module": "@jupyter-widgets/controls"
          }
        },
        "b0470e9f765340168f72f2ff57e857bd": {
          "model_module": "@jupyter-widgets/base",
          "model_name": "LayoutModel",
          "state": {
            "_view_name": "LayoutView",
            "grid_template_rows": null,
            "right": null,
            "justify_content": null,
            "_view_module": "@jupyter-widgets/base",
            "overflow": null,
            "_model_module_version": "1.2.0",
            "_view_count": null,
            "flex_flow": null,
            "width": null,
            "min_width": null,
            "border": null,
            "align_items": null,
            "bottom": null,
            "_model_module": "@jupyter-widgets/base",
            "top": null,
            "grid_column": null,
            "overflow_y": null,
            "overflow_x": null,
            "grid_auto_flow": null,
            "grid_area": null,
            "grid_template_columns": null,
            "flex": null,
            "_model_name": "LayoutModel",
            "justify_items": null,
            "grid_row": null,
            "max_height": null,
            "align_content": null,
            "visibility": null,
            "align_self": null,
            "height": null,
            "min_height": null,
            "padding": null,
            "grid_auto_rows": null,
            "grid_gap": null,
            "max_width": null,
            "order": null,
            "_view_module_version": "1.2.0",
            "grid_template_areas": null,
            "object_position": null,
            "object_fit": null,
            "grid_auto_columns": null,
            "margin": null,
            "display": null,
            "left": null
          }
        },
        "56facf7d6d8045d5af4e05d41f35153d": {
          "model_module": "@jupyter-widgets/controls",
          "model_name": "DescriptionStyleModel",
          "state": {
            "_view_name": "StyleView",
            "_model_name": "DescriptionStyleModel",
            "description_width": "",
            "_view_module": "@jupyter-widgets/base",
            "_model_module_version": "1.5.0",
            "_view_count": null,
            "_view_module_version": "1.2.0",
            "_model_module": "@jupyter-widgets/controls"
          }
        },
        "78be6a791b4e49968b71f9bb08c3d227": {
          "model_module": "@jupyter-widgets/base",
          "model_name": "LayoutModel",
          "state": {
            "_view_name": "LayoutView",
            "grid_template_rows": null,
            "right": null,
            "justify_content": null,
            "_view_module": "@jupyter-widgets/base",
            "overflow": null,
            "_model_module_version": "1.2.0",
            "_view_count": null,
            "flex_flow": null,
            "width": null,
            "min_width": null,
            "border": null,
            "align_items": null,
            "bottom": null,
            "_model_module": "@jupyter-widgets/base",
            "top": null,
            "grid_column": null,
            "overflow_y": null,
            "overflow_x": null,
            "grid_auto_flow": null,
            "grid_area": null,
            "grid_template_columns": null,
            "flex": null,
            "_model_name": "LayoutModel",
            "justify_items": null,
            "grid_row": null,
            "max_height": null,
            "align_content": null,
            "visibility": null,
            "align_self": null,
            "height": null,
            "min_height": null,
            "padding": null,
            "grid_auto_rows": null,
            "grid_gap": null,
            "max_width": null,
            "order": null,
            "_view_module_version": "1.2.0",
            "grid_template_areas": null,
            "object_position": null,
            "object_fit": null,
            "grid_auto_columns": null,
            "margin": null,
            "display": null,
            "left": null
          }
        },
        "02b0d5af1d5a4116a10fddbe9b2e8525": {
          "model_module": "@jupyter-widgets/controls",
          "model_name": "HBoxModel",
          "state": {
            "_view_name": "HBoxView",
            "_dom_classes": [],
            "_model_name": "HBoxModel",
            "_view_module": "@jupyter-widgets/controls",
            "_model_module_version": "1.5.0",
            "_view_count": null,
            "_view_module_version": "1.5.0",
            "box_style": "",
            "layout": "IPY_MODEL_a4dc2f9ac9754f9da1f07ef07312d792",
            "_model_module": "@jupyter-widgets/controls",
            "children": [
              "IPY_MODEL_ae63bac680aa4e27978b96aa56c65e50",
              "IPY_MODEL_f689b0d265764400bdc7524cccda6a9e"
            ]
          }
        },
        "a4dc2f9ac9754f9da1f07ef07312d792": {
          "model_module": "@jupyter-widgets/base",
          "model_name": "LayoutModel",
          "state": {
            "_view_name": "LayoutView",
            "grid_template_rows": null,
            "right": null,
            "justify_content": null,
            "_view_module": "@jupyter-widgets/base",
            "overflow": null,
            "_model_module_version": "1.2.0",
            "_view_count": null,
            "flex_flow": null,
            "width": null,
            "min_width": null,
            "border": null,
            "align_items": null,
            "bottom": null,
            "_model_module": "@jupyter-widgets/base",
            "top": null,
            "grid_column": null,
            "overflow_y": null,
            "overflow_x": null,
            "grid_auto_flow": null,
            "grid_area": null,
            "grid_template_columns": null,
            "flex": null,
            "_model_name": "LayoutModel",
            "justify_items": null,
            "grid_row": null,
            "max_height": null,
            "align_content": null,
            "visibility": null,
            "align_self": null,
            "height": null,
            "min_height": null,
            "padding": null,
            "grid_auto_rows": null,
            "grid_gap": null,
            "max_width": null,
            "order": null,
            "_view_module_version": "1.2.0",
            "grid_template_areas": null,
            "object_position": null,
            "object_fit": null,
            "grid_auto_columns": null,
            "margin": null,
            "display": null,
            "left": null
          }
        },
        "ae63bac680aa4e27978b96aa56c65e50": {
          "model_module": "@jupyter-widgets/controls",
          "model_name": "FloatProgressModel",
          "state": {
            "_view_name": "ProgressView",
            "style": "IPY_MODEL_5f761028744f448bbb990841ba7acd44",
            "_dom_classes": [],
            "description": " 71%",
            "_model_name": "FloatProgressModel",
            "bar_style": "danger",
            "max": 50000,
            "_view_module": "@jupyter-widgets/controls",
            "_model_module_version": "1.5.0",
            "value": 35512,
            "_view_count": null,
            "_view_module_version": "1.5.0",
            "orientation": "horizontal",
            "min": 0,
            "description_tooltip": null,
            "_model_module": "@jupyter-widgets/controls",
            "layout": "IPY_MODEL_1544eaaf0d664e5481d26a477e7ed84f"
          }
        },
        "f689b0d265764400bdc7524cccda6a9e": {
          "model_module": "@jupyter-widgets/controls",
          "model_name": "HTMLModel",
          "state": {
            "_view_name": "HTMLView",
            "style": "IPY_MODEL_18fe52bf0d1844f6ae4105429640afb2",
            "_dom_classes": [],
            "description": "",
            "_model_name": "HTMLModel",
            "placeholder": "​",
            "_view_module": "@jupyter-widgets/controls",
            "_model_module_version": "1.5.0",
            "value": " 35512/50000 [00:00&lt;00:00, 97676.89 examples/s]",
            "_view_count": null,
            "_view_module_version": "1.5.0",
            "description_tooltip": null,
            "_model_module": "@jupyter-widgets/controls",
            "layout": "IPY_MODEL_b1665d299ad643358f81e27b16c6a557"
          }
        },
        "5f761028744f448bbb990841ba7acd44": {
          "model_module": "@jupyter-widgets/controls",
          "model_name": "ProgressStyleModel",
          "state": {
            "_view_name": "StyleView",
            "_model_name": "ProgressStyleModel",
            "description_width": "initial",
            "_view_module": "@jupyter-widgets/base",
            "_model_module_version": "1.5.0",
            "_view_count": null,
            "_view_module_version": "1.2.0",
            "bar_color": null,
            "_model_module": "@jupyter-widgets/controls"
          }
        },
        "1544eaaf0d664e5481d26a477e7ed84f": {
          "model_module": "@jupyter-widgets/base",
          "model_name": "LayoutModel",
          "state": {
            "_view_name": "LayoutView",
            "grid_template_rows": null,
            "right": null,
            "justify_content": null,
            "_view_module": "@jupyter-widgets/base",
            "overflow": null,
            "_model_module_version": "1.2.0",
            "_view_count": null,
            "flex_flow": null,
            "width": null,
            "min_width": null,
            "border": null,
            "align_items": null,
            "bottom": null,
            "_model_module": "@jupyter-widgets/base",
            "top": null,
            "grid_column": null,
            "overflow_y": null,
            "overflow_x": null,
            "grid_auto_flow": null,
            "grid_area": null,
            "grid_template_columns": null,
            "flex": null,
            "_model_name": "LayoutModel",
            "justify_items": null,
            "grid_row": null,
            "max_height": null,
            "align_content": null,
            "visibility": null,
            "align_self": null,
            "height": null,
            "min_height": null,
            "padding": null,
            "grid_auto_rows": null,
            "grid_gap": null,
            "max_width": null,
            "order": null,
            "_view_module_version": "1.2.0",
            "grid_template_areas": null,
            "object_position": null,
            "object_fit": null,
            "grid_auto_columns": null,
            "margin": null,
            "display": null,
            "left": null
          }
        },
        "18fe52bf0d1844f6ae4105429640afb2": {
          "model_module": "@jupyter-widgets/controls",
          "model_name": "DescriptionStyleModel",
          "state": {
            "_view_name": "StyleView",
            "_model_name": "DescriptionStyleModel",
            "description_width": "",
            "_view_module": "@jupyter-widgets/base",
            "_model_module_version": "1.5.0",
            "_view_count": null,
            "_view_module_version": "1.2.0",
            "_model_module": "@jupyter-widgets/controls"
          }
        },
        "b1665d299ad643358f81e27b16c6a557": {
          "model_module": "@jupyter-widgets/base",
          "model_name": "LayoutModel",
          "state": {
            "_view_name": "LayoutView",
            "grid_template_rows": null,
            "right": null,
            "justify_content": null,
            "_view_module": "@jupyter-widgets/base",
            "overflow": null,
            "_model_module_version": "1.2.0",
            "_view_count": null,
            "flex_flow": null,
            "width": null,
            "min_width": null,
            "border": null,
            "align_items": null,
            "bottom": null,
            "_model_module": "@jupyter-widgets/base",
            "top": null,
            "grid_column": null,
            "overflow_y": null,
            "overflow_x": null,
            "grid_auto_flow": null,
            "grid_area": null,
            "grid_template_columns": null,
            "flex": null,
            "_model_name": "LayoutModel",
            "justify_items": null,
            "grid_row": null,
            "max_height": null,
            "align_content": null,
            "visibility": null,
            "align_self": null,
            "height": null,
            "min_height": null,
            "padding": null,
            "grid_auto_rows": null,
            "grid_gap": null,
            "max_width": null,
            "order": null,
            "_view_module_version": "1.2.0",
            "grid_template_areas": null,
            "object_position": null,
            "object_fit": null,
            "grid_auto_columns": null,
            "margin": null,
            "display": null,
            "left": null
          }
        }
      }
    }
  },
  "cells": [
    {
      "cell_type": "code",
      "metadata": {
        "colab": {
          "base_uri": "https://localhost:8080/"
        },
        "id": "qpAy4tdgcIy8",
        "outputId": "371136c9-3436-417b-a9b1-0adb2e1dbc5b"
      },
      "source": [
        "# Python ≥3.5 is required\n",
        "import sys\n",
        "assert sys.version_info >= (3, 5)\n",
        "\n",
        "# Scikit-Learn ≥0.20 is required\n",
        "import sklearn\n",
        "assert sklearn.__version__ >= \"0.20\"\n",
        "\n",
        "try:\n",
        "    # %tensorflow_version only exists in Colab.\n",
        "    %tensorflow_version 2.x\n",
        "    !pip install -q -U tensorflow-addons\n",
        "    IS_COLAB = True\n",
        "except Exception:\n",
        "    IS_COLAB = False\n",
        "\n",
        "# TensorFlow ≥2.0 is required\n",
        "import tensorflow as tf\n",
        "from tensorflow import keras\n",
        "assert tf.__version__ >= \"2.0\"\n",
        "\n",
        "if not tf.config.list_physical_devices('GPU'):\n",
        "    print(\"No GPU was detected. LSTMs and CNNs can be very slow without a GPU.\")\n",
        "    if IS_COLAB:\n",
        "        print(\"Go to Runtime > Change runtime and select a GPU hardware accelerator.\")\n",
        "\n",
        "# Common imports\n",
        "import numpy as np\n",
        "import os\n",
        "\n",
        "# to make this notebook's output stable across runs\n",
        "np.random.seed(42)\n",
        "tf.random.set_seed(42)\n",
        "\n",
        "# To plot pretty figures\n",
        "%matplotlib inline\n",
        "import matplotlib as mpl\n",
        "import matplotlib.pyplot as plt\n",
        "mpl.rc('axes', labelsize=14)\n",
        "mpl.rc('xtick', labelsize=12)\n",
        "mpl.rc('ytick', labelsize=12)\n",
        "\n",
        "# Where to save the figures\n",
        "PROJECT_ROOT_DIR = \".\"\n",
        "CHAPTER_ID = \"nlp\"\n",
        "IMAGES_PATH = os.path.join(PROJECT_ROOT_DIR, \"images\", CHAPTER_ID)\n",
        "os.makedirs(IMAGES_PATH, exist_ok=True)\n"
      ],
      "execution_count": 1,
      "outputs": [
        {
          "output_type": "stream",
          "text": [
            "\u001b[?25l\r\u001b[K     |▎                               | 10kB 24.8MB/s eta 0:00:01\r\u001b[K     |▋                               | 20kB 32.3MB/s eta 0:00:01\r\u001b[K     |█                               | 30kB 19.1MB/s eta 0:00:01\r\u001b[K     |█▏                              | 40kB 22.1MB/s eta 0:00:01\r\u001b[K     |█▌                              | 51kB 21.8MB/s eta 0:00:01\r\u001b[K     |█▉                              | 61kB 16.1MB/s eta 0:00:01\r\u001b[K     |██                              | 71kB 16.9MB/s eta 0:00:01\r\u001b[K     |██▍                             | 81kB 17.7MB/s eta 0:00:01\r\u001b[K     |██▊                             | 92kB 15.7MB/s eta 0:00:01\r\u001b[K     |███                             | 102kB 16.9MB/s eta 0:00:01\r\u001b[K     |███▎                            | 112kB 16.9MB/s eta 0:00:01\r\u001b[K     |███▋                            | 122kB 16.9MB/s eta 0:00:01\r\u001b[K     |███▉                            | 133kB 16.9MB/s eta 0:00:01\r\u001b[K     |████▏                           | 143kB 16.9MB/s eta 0:00:01\r\u001b[K     |████▌                           | 153kB 16.9MB/s eta 0:00:01\r\u001b[K     |████▊                           | 163kB 16.9MB/s eta 0:00:01\r\u001b[K     |█████                           | 174kB 16.9MB/s eta 0:00:01\r\u001b[K     |█████▍                          | 184kB 16.9MB/s eta 0:00:01\r\u001b[K     |█████▋                          | 194kB 16.9MB/s eta 0:00:01\r\u001b[K     |██████                          | 204kB 16.9MB/s eta 0:00:01\r\u001b[K     |██████▎                         | 215kB 16.9MB/s eta 0:00:01\r\u001b[K     |██████▌                         | 225kB 16.9MB/s eta 0:00:01\r\u001b[K     |██████▉                         | 235kB 16.9MB/s eta 0:00:01\r\u001b[K     |███████▏                        | 245kB 16.9MB/s eta 0:00:01\r\u001b[K     |███████▌                        | 256kB 16.9MB/s eta 0:00:01\r\u001b[K     |███████▊                        | 266kB 16.9MB/s eta 0:00:01\r\u001b[K     |████████                        | 276kB 16.9MB/s eta 0:00:01\r\u001b[K     |████████▍                       | 286kB 16.9MB/s eta 0:00:01\r\u001b[K     |████████▋                       | 296kB 16.9MB/s eta 0:00:01\r\u001b[K     |█████████                       | 307kB 16.9MB/s eta 0:00:01\r\u001b[K     |█████████▎                      | 317kB 16.9MB/s eta 0:00:01\r\u001b[K     |█████████▌                      | 327kB 16.9MB/s eta 0:00:01\r\u001b[K     |█████████▉                      | 337kB 16.9MB/s eta 0:00:01\r\u001b[K     |██████████▏                     | 348kB 16.9MB/s eta 0:00:01\r\u001b[K     |██████████▍                     | 358kB 16.9MB/s eta 0:00:01\r\u001b[K     |██████████▊                     | 368kB 16.9MB/s eta 0:00:01\r\u001b[K     |███████████                     | 378kB 16.9MB/s eta 0:00:01\r\u001b[K     |███████████▎                    | 389kB 16.9MB/s eta 0:00:01\r\u001b[K     |███████████▋                    | 399kB 16.9MB/s eta 0:00:01\r\u001b[K     |████████████                    | 409kB 16.9MB/s eta 0:00:01\r\u001b[K     |████████████▏                   | 419kB 16.9MB/s eta 0:00:01\r\u001b[K     |████████████▌                   | 430kB 16.9MB/s eta 0:00:01\r\u001b[K     |████████████▉                   | 440kB 16.9MB/s eta 0:00:01\r\u001b[K     |█████████████                   | 450kB 16.9MB/s eta 0:00:01\r\u001b[K     |█████████████▍                  | 460kB 16.9MB/s eta 0:00:01\r\u001b[K     |█████████████▊                  | 471kB 16.9MB/s eta 0:00:01\r\u001b[K     |██████████████                  | 481kB 16.9MB/s eta 0:00:01\r\u001b[K     |██████████████▎                 | 491kB 16.9MB/s eta 0:00:01\r\u001b[K     |██████████████▋                 | 501kB 16.9MB/s eta 0:00:01\r\u001b[K     |███████████████                 | 512kB 16.9MB/s eta 0:00:01\r\u001b[K     |███████████████▏                | 522kB 16.9MB/s eta 0:00:01\r\u001b[K     |███████████████▌                | 532kB 16.9MB/s eta 0:00:01\r\u001b[K     |███████████████▉                | 542kB 16.9MB/s eta 0:00:01\r\u001b[K     |████████████████                | 552kB 16.9MB/s eta 0:00:01\r\u001b[K     |████████████████▍               | 563kB 16.9MB/s eta 0:00:01\r\u001b[K     |████████████████▊               | 573kB 16.9MB/s eta 0:00:01\r\u001b[K     |█████████████████               | 583kB 16.9MB/s eta 0:00:01\r\u001b[K     |█████████████████▎              | 593kB 16.9MB/s eta 0:00:01\r\u001b[K     |█████████████████▋              | 604kB 16.9MB/s eta 0:00:01\r\u001b[K     |█████████████████▉              | 614kB 16.9MB/s eta 0:00:01\r\u001b[K     |██████████████████▏             | 624kB 16.9MB/s eta 0:00:01\r\u001b[K     |██████████████████▌             | 634kB 16.9MB/s eta 0:00:01\r\u001b[K     |██████████████████▊             | 645kB 16.9MB/s eta 0:00:01\r\u001b[K     |███████████████████             | 655kB 16.9MB/s eta 0:00:01\r\u001b[K     |███████████████████▍            | 665kB 16.9MB/s eta 0:00:01\r\u001b[K     |███████████████████▋            | 675kB 16.9MB/s eta 0:00:01\r\u001b[K     |████████████████████            | 686kB 16.9MB/s eta 0:00:01\r\u001b[K     |████████████████████▎           | 696kB 16.9MB/s eta 0:00:01\r\u001b[K     |████████████████████▌           | 706kB 16.9MB/s eta 0:00:01\r\u001b[K     |████████████████████▉           | 716kB 16.9MB/s eta 0:00:01\r\u001b[K     |█████████████████████▏          | 727kB 16.9MB/s eta 0:00:01\r\u001b[K     |█████████████████████▍          | 737kB 16.9MB/s eta 0:00:01\r\u001b[K     |█████████████████████▊          | 747kB 16.9MB/s eta 0:00:01\r\u001b[K     |██████████████████████          | 757kB 16.9MB/s eta 0:00:01\r\u001b[K     |██████████████████████▍         | 768kB 16.9MB/s eta 0:00:01\r\u001b[K     |██████████████████████▋         | 778kB 16.9MB/s eta 0:00:01\r\u001b[K     |███████████████████████         | 788kB 16.9MB/s eta 0:00:01\r\u001b[K     |███████████████████████▎        | 798kB 16.9MB/s eta 0:00:01\r\u001b[K     |███████████████████████▌        | 808kB 16.9MB/s eta 0:00:01\r\u001b[K     |███████████████████████▉        | 819kB 16.9MB/s eta 0:00:01\r\u001b[K     |████████████████████████▏       | 829kB 16.9MB/s eta 0:00:01\r\u001b[K     |████████████████████████▍       | 839kB 16.9MB/s eta 0:00:01\r\u001b[K     |████████████████████████▊       | 849kB 16.9MB/s eta 0:00:01\r\u001b[K     |█████████████████████████       | 860kB 16.9MB/s eta 0:00:01\r\u001b[K     |█████████████████████████▎      | 870kB 16.9MB/s eta 0:00:01\r\u001b[K     |█████████████████████████▋      | 880kB 16.9MB/s eta 0:00:01\r\u001b[K     |██████████████████████████      | 890kB 16.9MB/s eta 0:00:01\r\u001b[K     |██████████████████████████▏     | 901kB 16.9MB/s eta 0:00:01\r\u001b[K     |██████████████████████████▌     | 911kB 16.9MB/s eta 0:00:01\r\u001b[K     |██████████████████████████▉     | 921kB 16.9MB/s eta 0:00:01\r\u001b[K     |███████████████████████████     | 931kB 16.9MB/s eta 0:00:01\r\u001b[K     |███████████████████████████▍    | 942kB 16.9MB/s eta 0:00:01\r\u001b[K     |███████████████████████████▊    | 952kB 16.9MB/s eta 0:00:01\r\u001b[K     |████████████████████████████    | 962kB 16.9MB/s eta 0:00:01\r\u001b[K     |████████████████████████████▎   | 972kB 16.9MB/s eta 0:00:01\r\u001b[K     |████████████████████████████▋   | 983kB 16.9MB/s eta 0:00:01\r\u001b[K     |████████████████████████████▉   | 993kB 16.9MB/s eta 0:00:01\r\u001b[K     |█████████████████████████████▏  | 1.0MB 16.9MB/s eta 0:00:01\r\u001b[K     |█████████████████████████████▌  | 1.0MB 16.9MB/s eta 0:00:01\r\u001b[K     |█████████████████████████████▉  | 1.0MB 16.9MB/s eta 0:00:01\r\u001b[K     |██████████████████████████████  | 1.0MB 16.9MB/s eta 0:00:01\r\u001b[K     |██████████████████████████████▍ | 1.0MB 16.9MB/s eta 0:00:01\r\u001b[K     |██████████████████████████████▊ | 1.1MB 16.9MB/s eta 0:00:01\r\u001b[K     |███████████████████████████████ | 1.1MB 16.9MB/s eta 0:00:01\r\u001b[K     |███████████████████████████████▎| 1.1MB 16.9MB/s eta 0:00:01\r\u001b[K     |███████████████████████████████▋| 1.1MB 16.9MB/s eta 0:00:01\r\u001b[K     |███████████████████████████████▉| 1.1MB 16.9MB/s eta 0:00:01\r\u001b[K     |████████████████████████████████| 1.1MB 16.9MB/s \n",
            "\u001b[?25h"
          ],
          "name": "stdout"
        }
      ]
    },
    {
      "cell_type": "markdown",
      "metadata": {
        "id": "KBFbXAW9cIy8"
      },
      "source": [
        "# 16.1 Char-RNN을 사용해 셰익스피어 문체 생성하기"
      ]
    },
    {
      "cell_type": "markdown",
      "metadata": {
        "id": "OIkehwXAcIy8"
      },
      "source": [
        "* Char-RNN을 사용해 한 번에 한 글자씩 새로운 텍스트를 생성할 수 있다."
      ]
    },
    {
      "cell_type": "markdown",
      "metadata": {
        "id": "GTdt-pYncIy9"
      },
      "source": [
        "## 16.1.1 훈련 데이터셋 만들기"
      ]
    },
    {
      "cell_type": "code",
      "metadata": {
        "colab": {
          "base_uri": "https://localhost:8080/"
        },
        "id": "4tPFuRIBcIy9",
        "outputId": "3e466e44-d848-488b-a35d-e8b8dc9e606b"
      },
      "source": [
        "#셰익스피어 작품을 다운로드\n",
        "shakespeare_url = \"https://raw.githubusercontent.com/karpathy/char-rnn/master/data/tinyshakespeare/input.txt\"\n",
        "filepath = keras.utils.get_file(\"shakespeare.txt\", shakespeare_url)\n",
        "with open(filepath) as f:\n",
        "    shakespeare_text = f.read()"
      ],
      "execution_count": 2,
      "outputs": [
        {
          "output_type": "stream",
          "text": [
            "Downloading data from https://raw.githubusercontent.com/karpathy/char-rnn/master/data/tinyshakespeare/input.txt\n",
            "1122304/1115394 [==============================] - 0s 0us/step\n"
          ],
          "name": "stdout"
        }
      ]
    },
    {
      "cell_type": "code",
      "metadata": {
        "colab": {
          "base_uri": "https://localhost:8080/"
        },
        "id": "1P7JN-j_cIy9",
        "outputId": "06bc3134-40cf-4ac6-a377-e494a43a2df2"
      },
      "source": [
        "print(shakespeare_text[:148])"
      ],
      "execution_count": 3,
      "outputs": [
        {
          "output_type": "stream",
          "text": [
            "First Citizen:\n",
            "Before we proceed any further, hear me speak.\n",
            "\n",
            "All:\n",
            "Speak, speak.\n",
            "\n",
            "First Citizen:\n",
            "You are all resolved rather to die than to famish?\n",
            "\n"
          ],
          "name": "stdout"
        }
      ]
    },
    {
      "cell_type": "code",
      "metadata": {
        "id": "do0jzqIzcIy9"
      },
      "source": [
        "#Tokenizer클래스를 이용한 모든 글자를 정수로 인코딩\n",
        "tokenizer = keras.preprocessing.text.Tokenizer(char_level=True)\n",
        "tokenizer.fit_on_texts(shakespeare_text)"
      ],
      "execution_count": 4,
      "outputs": []
    },
    {
      "cell_type": "code",
      "metadata": {
        "colab": {
          "base_uri": "https://localhost:8080/"
        },
        "id": "puXTtw3VcIy9",
        "outputId": "e35db5e9-9b04-4c68-d580-039a0507b6c3"
      },
      "source": [
        "tokenizer.texts_to_sequences([\"First\"])"
      ],
      "execution_count": 5,
      "outputs": [
        {
          "output_type": "execute_result",
          "data": {
            "text/plain": [
              "[[20, 6, 9, 8, 3]]"
            ]
          },
          "metadata": {
            "tags": []
          },
          "execution_count": 5
        }
      ]
    },
    {
      "cell_type": "code",
      "metadata": {
        "colab": {
          "base_uri": "https://localhost:8080/"
        },
        "id": "wgZ_BqVucIy-",
        "outputId": "942413e9-ab0b-47cf-b433-182f73c3f9f0"
      },
      "source": [
        "tokenizer.sequences_to_texts([[20, 6, 9, 8, 3]])"
      ],
      "execution_count": 6,
      "outputs": [
        {
          "output_type": "execute_result",
          "data": {
            "text/plain": [
              "['f i r s t']"
            ]
          },
          "metadata": {
            "tags": []
          },
          "execution_count": 6
        }
      ]
    },
    {
      "cell_type": "code",
      "metadata": {
        "colab": {
          "base_uri": "https://localhost:8080/"
        },
        "id": "wJXplN2pcIy-",
        "outputId": "7a29ef5e-fc85-4574-d59f-f97a7f6e5839"
      },
      "source": [
        "max_id = len(tokenizer.word_index)\n",
        "print(max_id)\n",
        "dataset_size = tokenizer.document_count\n",
        "print(dataset_size)"
      ],
      "execution_count": 7,
      "outputs": [
        {
          "output_type": "stream",
          "text": [
            "39\n",
            "1115394\n"
          ],
          "name": "stdout"
        }
      ]
    },
    {
      "cell_type": "markdown",
      "metadata": {
        "id": "p7HTnuExcIy-"
      },
      "source": [
        "* 케라스의 Tokenizer 클래스를 사용\n",
        " - 이 클래스의 객체를 텍스트에 훈련해야 한다. 텍스트에서 사요되는 모든 글자를 찾아 각기 다른 글자 1D에 매핑한다.\n",
        " - 이 1D는 1부터 시작해서 고유한 글자 개수까지 만들어진다.\n",
        " - char_level=True로 지정하여 단어 수준 인코딩 대신 글자 수준 인코딩을 만든다.\n",
        " - 이 클래스는 기본적으로 텍스트를 소문자로 바꾼다.(싫으면 lower=False)"
      ]
    },
    {
      "cell_type": "code",
      "metadata": {
        "id": "ma4mvgsFcIy-"
      },
      "source": [
        "[encoded] = np.array(tokenizer.texts_to_sequences([shakespeare_text])) - 1"
      ],
      "execution_count": 8,
      "outputs": []
    },
    {
      "cell_type": "markdown",
      "metadata": {
        "id": "EupJQaXhcIy-"
      },
      "source": [
        "* 전체 텍스트를 인코딩하여 각 글자를 1D로 나타낸다. (1 ~ 39가 아닌 0 ~ 38까지 ID를 얻기 위해 1을 뺀다)"
      ]
    },
    {
      "cell_type": "markdown",
      "metadata": {
        "id": "rFacwvyucIy-"
      },
      "source": [
        "## 16.1.2 순차 데이터셋을 나누는 방법"
      ]
    },
    {
      "cell_type": "markdown",
      "metadata": {
        "id": "buyliAJvcIy-"
      },
      "source": [
        "* 훈련 세트, 검증 세트, 테스트 세트가 중복되지 않도록 만드는 것이 중요하다.\n",
        " - 두 세트 사이에 문장이 걸치지 않고 완전히 분리될 수 있도록 세트 사이에 간격을 두는 것도 좋은 생각\n",
        " - 시계열을 다룰 때는 보통 시간에 따라 나눈다.\n",
        "   - 시계열 데이타가 과거에서 학습하는 패턴이 미래에도 등장한다고 가정한다. 즉 변하지 않는다고 가정한다.\n",
        "   - 모델이 검증 세트 마지막보다 첫 부분에서 성능이 더 좋다면 이 시계열은 충분히 안정되지 않는 것이다. 이럴 때는 짧은 시간 간격으로 모델을 훈련하는 것이 좋다.\n",
        " "
      ]
    },
    {
      "cell_type": "code",
      "metadata": {
        "id": "V3PWjyr0cIy-"
      },
      "source": [
        "#텍스트의 90%를 훈련세트로 사용\n",
        "train_size = dataset_size * 90 //100\n",
        "dataset = tf.data.Dataset.from_tensor_slices(encoded[:train_size])"
      ],
      "execution_count": 9,
      "outputs": []
    },
    {
      "cell_type": "markdown",
      "metadata": {
        "id": "XbBj-qHWcIy-"
      },
      "source": [
        "## 16.1.3 순차 데이터를 윈도 여러 개로 자르기"
      ]
    },
    {
      "cell_type": "markdown",
      "metadata": {
        "id": "nltHsL9YcIy-"
      },
      "source": [
        "* 훈련 세트는 백만 개 이상 글자로 이루어진 시퀀스 하나이다. 여기에 신경망을 직접 훈련시킬 수 없다.\n",
        "* 이 RNN은 백만 개의 층이 있는 심층 신경망과 비슷하고 샘플 하나로 훈련하는 셈이 된다.\n",
        "* 대신 데이터셋의 window()메서드를 사용해 이 긴 시퀀스를 작은 많은 텍스트 윈도로 변환한다.\n",
        " - 이 데이터셋의 각 샘플은 전체 텍스트에서 매우 짧은 부분 문자열이다.\n",
        " - RNN은 이 부분 문자열 길이만큼만 역전파를 위해 펼쳐진다.\n",
        " - 이를 TBPTT(Truncated Backpropagation Through Time)라고 한다."
      ]
    },
    {
      "cell_type": "code",
      "metadata": {
        "id": "V0cWXzvqcIy-"
      },
      "source": [
        "n_steps = 100\n",
        "window_length = n_steps + 1\n",
        "dataset = dataset.repeat().window(window_length, shift=1, drop_remainder=True)"
      ],
      "execution_count": 10,
      "outputs": []
    },
    {
      "cell_type": "code",
      "metadata": {
        "id": "ZQCO-rKscIy-"
      },
      "source": [
        "dataset = dataset.flat_map(lambda window: window.batch(window_length))"
      ],
      "execution_count": 11,
      "outputs": []
    },
    {
      "cell_type": "markdown",
      "metadata": {
        "id": "lxTBUUwhcIy-"
      },
      "source": [
        " - window() 메서드는 각각 하나의 데이터셋으로 표현되는 윈도를 포함하는 데이터셋을 만든다.\n",
        " - 리스트의 리스트와 비슷한 중첩 데이터셋(Nested Dataset)\n",
        " - 모델은 데이터셋이 아니라 텐서를 기다해가 때문에 훈련에 중첩 데이터셋을 바로 사용할 수 없다.\n",
        " - 따라서 중첩 데이터셋을 플랫 데이터셋(Flat Dataset)으로 변환하는 flat_map()메서드를 호출해야 한다.\n",
        " - flat_map()메서드는 중첩 데이터셋을 평행하게 만들기 전에 각 데이터셋에 적용할 변환 함수를 매개변수로 받을 수 있다."
      ]
    },
    {
      "cell_type": "code",
      "metadata": {
        "id": "LY8EmDZ6cIy-"
      },
      "source": [
        "batch_size = 32\n",
        "dataset = dataset.shuffle(10000).batch(batch_size)\n",
        "dataset = dataset.map(lambda windows: (windows[:, :-1], windows[:, 1:]))"
      ],
      "execution_count": 12,
      "outputs": []
    },
    {
      "cell_type": "markdown",
      "metadata": {
        "id": "zGG1W3nNcIy-"
      },
      "source": [
        " - 윈도 마다 batch를 호출한다.\n",
        " - 이 길이는 윈도 길이와 같이 때문에 하나를 담은 데이터셋을 얻는다.\n",
        " - 경사 하강법은 훈련 세트 샘플이 동일 독립 분포일 때 가장 잘 작동하기 때문에 윈도를 섞는다.\n",
        " - 그 다음 윈도를 배치로 만들고 입력(처음 100개의 글자)과 타깃(마지막 글자)을 분리"
      ]
    },
    {
      "cell_type": "code",
      "metadata": {
        "id": "7dnDsb9xcIy-"
      },
      "source": [
        "dataset = dataset.map(\n",
        "    lambda X_batch, Y_batch: (tf.one_hot(X_batch, depth=max_id), Y_batch))"
      ],
      "execution_count": 13,
      "outputs": []
    },
    {
      "cell_type": "markdown",
      "metadata": {
        "id": "tcXEoVukcIy-"
      },
      "source": [
        "* 일반적으로 범주형 입력 특성은 원-핫 벡터나 임베딩으로 인코딩되어야 한다."
      ]
    },
    {
      "cell_type": "code",
      "metadata": {
        "id": "1kWYaWjvcIy-"
      },
      "source": [
        "dataset = dataset.prefetch(1)"
      ],
      "execution_count": 14,
      "outputs": []
    },
    {
      "cell_type": "markdown",
      "metadata": {
        "id": "rK2RpOgwcIy-"
      },
      "source": [
        "* 프리패칭"
      ]
    },
    {
      "cell_type": "code",
      "metadata": {
        "colab": {
          "base_uri": "https://localhost:8080/"
        },
        "id": "eRdtH388cIy-",
        "outputId": "30e0d76a-606a-4e8b-e3c6-48d90a2e1732"
      },
      "source": [
        "for X_batch, Y_batch in dataset.take(1):\n",
        "    print(X_batch.shape, Y_batch.shape)"
      ],
      "execution_count": 15,
      "outputs": [
        {
          "output_type": "stream",
          "text": [
            "(32, 100, 39) (32, 100)\n"
          ],
          "name": "stdout"
        }
      ]
    },
    {
      "cell_type": "markdown",
      "metadata": {
        "id": "-HJsV1lscIy-"
      },
      "source": [
        "## 16.1.4 Char-RNN 모댈 만들고 훈련하기"
      ]
    },
    {
      "cell_type": "code",
      "metadata": {
        "colab": {
          "base_uri": "https://localhost:8080/"
        },
        "id": "Gm5lryF4cIy-",
        "outputId": "14f6344f-4989-4f2f-f875-9cecb9cd19e2"
      },
      "source": [
        "model = keras.models.Sequential([\n",
        "    keras.layers.GRU(128, return_sequences=True, input_shape=[None, max_id],\n",
        "                     dropout=0.2), #recurrent_dropout=0.2),\n",
        "    keras.layers.GRU(128, return_sequences=True,\n",
        "                     dropout=0.2), #recurrent_dropout=0.2),\n",
        "    keras.layers.TimeDistributed(keras.layers.Dense(max_id,\n",
        "                                                    activation=\"softmax\"))\n",
        "])\n",
        "model.compile(loss=\"sparse_categorical_crossentropy\", optimizer=\"adam\")\n",
        "history = model.fit(dataset, steps_per_epoch=train_size // batch_size,\n",
        "                    epochs=10)"
      ],
      "execution_count": 16,
      "outputs": [
        {
          "output_type": "stream",
          "text": [
            "Epoch 1/10\n",
            "31370/31370 [==============================] - 368s 12ms/step - loss: 1.6220\n",
            "Epoch 2/10\n",
            "31370/31370 [==============================] - 365s 12ms/step - loss: 1.5340\n",
            "Epoch 3/10\n",
            "31370/31370 [==============================] - 365s 12ms/step - loss: 1.5123\n",
            "Epoch 4/10\n",
            "31370/31370 [==============================] - 368s 12ms/step - loss: 1.5005\n",
            "Epoch 5/10\n",
            "31370/31370 [==============================] - 364s 12ms/step - loss: 1.4934\n",
            "Epoch 6/10\n",
            "31370/31370 [==============================] - 361s 12ms/step - loss: 1.4882\n",
            "Epoch 7/10\n",
            "31370/31370 [==============================] - 361s 12ms/step - loss: 1.4844\n",
            "Epoch 8/10\n",
            "31370/31370 [==============================] - 359s 11ms/step - loss: 1.4814\n",
            "Epoch 9/10\n",
            "31370/31370 [==============================] - 362s 12ms/step - loss: 1.4787\n",
            "Epoch 10/10\n",
            "31370/31370 [==============================] - 361s 12ms/step - loss: 1.4764\n"
          ],
          "name": "stdout"
        }
      ]
    },
    {
      "cell_type": "markdown",
      "metadata": {
        "id": "ViNdae0AcIy-"
      },
      "source": [
        "* 이전 글자 100개를 기반으로 다음 글자를 예측하기 위해 유닛 128개를 가진 GRU 층 2개와 입력과 은닉 상태에 20% 드롭아웃을 사용한다.\n",
        "* 출력층은 TimeDistributed 클래스를 적용한 Dense 층\n",
        " - 텍스트에 있는 고유한 글자 수는 39개 이므로, 이 층은 39개의 유닛을 가진다.\n",
        " - 각 글자에 대한 확률을 출력할 수 있다.\n",
        " - 타임 스텝에서 출력 확률의 합은 1이어야 하므로 Dense층의 출력에 스프트맥스 함수를 적용한다.\n",
        "* \"sparse_categorical_crossentropy\" 손실과 Adam 옵티마이저를 사용해 모델의 compile()메서드를 호출"
      ]
    },
    {
      "cell_type": "markdown",
      "metadata": {
        "id": "qPNCaUQjcIy-"
      },
      "source": [
        "## 16.1.5 Char-RNN 모델 사용하기"
      ]
    },
    {
      "cell_type": "markdown",
      "metadata": {
        "id": "7uVcAmMBcIy-"
      },
      "source": [
        "* 셰익스피어가 쓴 텍스트에서 다음 글자를 예측하는 모델\n",
        "* 이 모델에 새로운 텍스트를 주입하려면 앞에서와 같이 먼저 전처리를 해야 한다."
      ]
    },
    {
      "cell_type": "code",
      "metadata": {
        "id": "w-a5Nz0UcIy-"
      },
      "source": [
        "def preprocess(texts):\n",
        "    X = np.array(tokenizer.texts_to_sequences(texts))-1\n",
        "    return tf.one_hot(X, max_id)"
      ],
      "execution_count": 17,
      "outputs": []
    },
    {
      "cell_type": "code",
      "metadata": {
        "colab": {
          "base_uri": "https://localhost:8080/",
          "height": 108
        },
        "id": "IzADqqrGcIy_",
        "outputId": "1c03e532-9ff4-482c-e151-72b8d6fb11f4"
      },
      "source": [
        "X_new = preprocess([\"How are yo\"])\n",
        "Y_pred = model.predict_classes(X_new)\n",
        "tokenizer.sequences_to_texts(Y_pred + 1)[0][-1]"
      ],
      "execution_count": 18,
      "outputs": [
        {
          "output_type": "stream",
          "text": [
            "WARNING:tensorflow:From <ipython-input-18-3ec7d58c727a>:2: Sequential.predict_classes (from tensorflow.python.keras.engine.sequential) is deprecated and will be removed after 2021-01-01.\n",
            "Instructions for updating:\n",
            "Please use instead:* `np.argmax(model.predict(x), axis=-1)`,   if your model does multi-class classification   (e.g. if it uses a `softmax` last-layer activation).* `(model.predict(x) > 0.5).astype(\"int32\")`,   if your model does binary classification   (e.g. if it uses a `sigmoid` last-layer activation).\n"
          ],
          "name": "stdout"
        },
        {
          "output_type": "execute_result",
          "data": {
            "application/vnd.google.colaboratory.intrinsic+json": {
              "type": "string"
            },
            "text/plain": [
              "'u'"
            ]
          },
          "metadata": {
            "tags": []
          },
          "execution_count": 18
        }
      ]
    },
    {
      "cell_type": "markdown",
      "metadata": {
        "id": "r3g0oHl3cIy_"
      },
      "source": [
        "## 16.1.6 가짜 셰익스피어 텍스트를 생성하기"
      ]
    },
    {
      "cell_type": "code",
      "metadata": {
        "colab": {
          "base_uri": "https://localhost:8080/"
        },
        "id": "o-5Lts2RcIy_",
        "outputId": "c9257e11-5494-4829-9d2a-a07c09f1817e"
      },
      "source": [
        "tf.random.categorical([[np.log(0.5), np.log(0.4), np.log(0.1)]], num_samples=40).numpy()"
      ],
      "execution_count": 19,
      "outputs": [
        {
          "output_type": "execute_result",
          "data": {
            "text/plain": [
              "array([[1, 1, 0, 1, 0, 2, 1, 1, 1, 1, 0, 1, 1, 2, 0, 0, 0, 1, 1, 0, 1, 0,\n",
              "        1, 0, 1, 1, 2, 0, 1, 0, 0, 1, 1, 2, 0, 0, 0, 2, 0, 0]])"
            ]
          },
          "metadata": {
            "tags": []
          },
          "execution_count": 19
        }
      ]
    },
    {
      "cell_type": "code",
      "metadata": {
        "id": "Gn3jzWzkcIy_"
      },
      "source": [
        "def next_char(text, temperature=1):\n",
        "    X_new = preprocess([text])\n",
        "    y_proba = model.predict(X_new)[0, -1:, :]\n",
        "    rescaled_logits = tf.math.log(y_proba) / temperature\n",
        "    char_id = tf.random.categorical(rescaled_logits, num_samples=1) + 1\n",
        "    return tokenizer.sequences_to_texts(char_id.numpy())[0]"
      ],
      "execution_count": 20,
      "outputs": []
    },
    {
      "cell_type": "markdown",
      "metadata": {
        "id": "htaQWOe7cIy_"
      },
      "source": [
        "* 위와 같은 방식은 같은 단어가 계속 반복되는 경우가 많다.\n",
        "* 대신 텐서플로의 tf.random.categorical()함수를 사용해 모델이 추정한 확률을 기반으로 다음 글자를 무작위로 선택할 수 있다.\n",
        " - categorical()함수는 클래스의 로그 확률(로짓)을 전달하면 랜덤하게 클래스 인덱스를 샘플링한다.\n",
        " - 생성된 텍스트의 다양성을 더 많이 제어하려면 온도(Temperature)라 불리는 숫자로 로짓을 나눈다.\n",
        " - 온도는 원하는 값으로 설정할 수 있는데, 0에 가까울수록 높은 확률을 가진 글자를 선택한다.\n",
        " - 온도가 매우 높으면 모든 글자가 동일한 확률을 가진다."
      ]
    },
    {
      "cell_type": "code",
      "metadata": {
        "colab": {
          "base_uri": "https://localhost:8080/",
          "height": 35
        },
        "id": "kaB4lXPFcIy_",
        "outputId": "e62f128b-1ebb-47c2-bd5c-8b7da1171353"
      },
      "source": [
        "next_char(\"How are yo\", temperature=1)"
      ],
      "execution_count": 21,
      "outputs": [
        {
          "output_type": "execute_result",
          "data": {
            "application/vnd.google.colaboratory.intrinsic+json": {
              "type": "string"
            },
            "text/plain": [
              "'u'"
            ]
          },
          "metadata": {
            "tags": []
          },
          "execution_count": 21
        }
      ]
    },
    {
      "cell_type": "code",
      "metadata": {
        "id": "gfemQ5YwcIy_"
      },
      "source": [
        "def complete_text(text, n_chars=50, temperature=1):\n",
        "    for _ in range(n_chars):\n",
        "        text += next_char(text, temperature)\n",
        "    return text"
      ],
      "execution_count": 22,
      "outputs": []
    },
    {
      "cell_type": "code",
      "metadata": {
        "colab": {
          "base_uri": "https://localhost:8080/"
        },
        "id": "ON4Ia34dcIy_",
        "outputId": "ae56f336-28d1-4fa9-ec3f-da91ddc8ca33"
      },
      "source": [
        "print(complete_text(\"t\", temperature=0.2), end=\"\\n\\n\")\n",
        "print(complete_text(\"t\", temperature=1), end=\"\\n\\n\")\n",
        "print(complete_text(\"t\", temperature=2))"
      ],
      "execution_count": 23,
      "outputs": [
        {
          "output_type": "stream",
          "text": [
            "the worst and the belly and the belly stand you who\n",
            "\n",
            "tio:\n",
            "ay 't so partic, rise your honour, but thirmen\n",
            "\n",
            "t lvce? t?goo, hire revals dear. ruli-faeern'd hand\n"
          ],
          "name": "stdout"
        }
      ]
    },
    {
      "cell_type": "markdown",
      "metadata": {
        "id": "dx16T1CtcIy_"
      },
      "source": [
        "## 16.1.7 상태가 있는 RNN"
      ]
    },
    {
      "cell_type": "markdown",
      "metadata": {
        "id": "jQJQQYBXcIy_"
      },
      "source": [
        "* 상태가 없는 RNN\n",
        " - 훈련 반복마다 모델의 은닉 상태를 0으로 초기화\n",
        " - 타임 스텝마다 이 상태를 업데이트하고 마지막 타임 스텝후에는 더 필요가 없기 때문에 버린다.\n",
        "* RNN이 한 훈련 배치를 처리한 후 마지막 상태를 다음 훈련 배치의 초기 상태로 사용한다면?\n",
        "* 이를 상태가 있는 RNN이라고 한다.\n",
        " - 역전파는 짧은 시퀀스에서 일어나지만 모델이 장기간 패턴을 학습할 수 있다."
      ]
    },
    {
      "cell_type": "code",
      "metadata": {
        "id": "TuEIUVCVcIy_"
      },
      "source": [
        "dataset = tf.data.Dataset.from_tensor_slices(encoded[:train_size])\n",
        "dataset = dataset.window(window_length, shift=n_steps, drop_remainder=True)\n",
        "dataset = dataset.flat_map(lambda window: window.batch(window_length))\n",
        "dataset = dataset.repeat().batch(1)\n",
        "dataset = dataset.map(lambda windows: (windows[:, :-1], windows[:, 1:]))\n",
        "dataset = dataset.map(\n",
        "    lambda X_batch, Y_batch: (tf.one_hot(X_batch, depth=max_id), Y_batch))\n",
        "dataset = dataset.prefetch(1)"
      ],
      "execution_count": 24,
      "outputs": []
    },
    {
      "cell_type": "code",
      "metadata": {
        "id": "FHLznDvCcIy_"
      },
      "source": [
        "batch_size = 32\n",
        "encoded_parts = np.array_split(encoded[:train_size], batch_size)\n",
        "datasets = []\n",
        "for encoded_part in encoded_parts:\n",
        "    dataset = tf.data.Dataset.from_tensor_slices(encoded_part)\n",
        "    dataset = dataset.window(window_length, shift=n_steps, drop_remainder=True)\n",
        "    dataset = dataset.flat_map(lambda window: window.batch(window_length))\n",
        "    datasets.append(dataset)\n",
        "dataset = tf.data.Dataset.zip(tuple(datasets)).map(lambda *windows: tf.stack(windows))\n",
        "dataset = dataset.repeat().map(lambda windows: (windows[:, :-1], windows[:, 1:]))\n",
        "dataset = dataset.map(\n",
        "    lambda X_batch, Y_batch: (tf.one_hot(X_batch, depth=max_id), Y_batch))\n",
        "dataset = dataset.prefetch(1)"
      ],
      "execution_count": 25,
      "outputs": []
    },
    {
      "cell_type": "markdown",
      "metadata": {
        "id": "61OS9FXQcIy_"
      },
      "source": [
        "* 상태가 있는 RNN은 배치에 있는 각 입력 시퀀스가 이전 배치의 시퀀스가 끝난 지점에서 시작\n",
        " - 따라서 순차적이고 겹치지 않는 입력 시퀀스를 만든다.\n",
        " - Dataset을 만들 때 window()메서드에서 shift=n_steps를 사용한다.\n",
        " - 셰익스피어의 텍스트를 길이가 동일한 32개의 텍스트로 나누고 각 텍스트에 대해 연속적인 입력 시퀀스를 가진 데이터 셋으 하나 만든다.\n",
        " - tf.train.Dataset.zip(datasets).map(lambda*windows: tf.stack(windows))를 사용해 연속직인 배치를 만든다.\n",
        " - 여기에서 한 배치에서 n번째 입력 시퀀스의 시작은 정확히 이전 배치의 n번째 입력 시퀀스가 끝나는 지점이다."
      ]
    },
    {
      "cell_type": "code",
      "metadata": {
        "id": "c5is4p7AcIy_"
      },
      "source": [
        "model = keras.models.Sequential([\n",
        "    keras.layers.GRU(128, return_sequences=True, stateful=True,\n",
        "                     dropout=0.2, #recurrent_dropout=0.2,\n",
        "                     batch_input_shape=[batch_size, None, max_id]),\n",
        "    keras.layers.GRU(128, return_sequences=True, stateful=True,\n",
        "                     dropout=0.2), #recurrent_dropout=0.2),\n",
        "    keras.layers.TimeDistributed(keras.layers.Dense(max_id,\n",
        "                                                    activation=\"softmax\"))\n",
        "])"
      ],
      "execution_count": 26,
      "outputs": []
    },
    {
      "cell_type": "code",
      "metadata": {
        "id": "0ZeBsFOwcIy_"
      },
      "source": [
        "class ResetStatesCallback(keras.callbacks.Callback):\n",
        "    def on_epoch_begin(self, epoch, logs):\n",
        "        self.model.reset_states()"
      ],
      "execution_count": 27,
      "outputs": []
    },
    {
      "cell_type": "code",
      "metadata": {
        "colab": {
          "base_uri": "https://localhost:8080/"
        },
        "id": "RYIoP58OcIy_",
        "outputId": "cfd36bc1-1035-4c70-ca85-de1e34285c9e"
      },
      "source": [
        "model.compile(loss=\"sparse_categorical_crossentropy\", optimizer=\"adam\")\n",
        "steps_per_epoch = train_size // batch_size // n_steps\n",
        "history = model.fit(dataset, steps_per_epoch=steps_per_epoch, epochs=50,\n",
        "                    callbacks=[ResetStatesCallback()])"
      ],
      "execution_count": 28,
      "outputs": [
        {
          "output_type": "stream",
          "text": [
            "Epoch 1/50\n",
            "313/313 [==============================] - 4s 12ms/step - loss: 2.6296\n",
            "Epoch 2/50\n",
            "313/313 [==============================] - 4s 12ms/step - loss: 2.2407\n",
            "Epoch 3/50\n",
            "313/313 [==============================] - 4s 11ms/step - loss: 2.1121\n",
            "Epoch 4/50\n",
            "313/313 [==============================] - 4s 11ms/step - loss: 2.0363\n",
            "Epoch 5/50\n",
            "313/313 [==============================] - 4s 11ms/step - loss: 1.9855\n",
            "Epoch 6/50\n",
            "313/313 [==============================] - 4s 12ms/step - loss: 1.9478\n",
            "Epoch 7/50\n",
            "313/313 [==============================] - 4s 12ms/step - loss: 1.9188\n",
            "Epoch 8/50\n",
            "313/313 [==============================] - 4s 12ms/step - loss: 1.8968\n",
            "Epoch 9/50\n",
            "313/313 [==============================] - 4s 12ms/step - loss: 1.8777\n",
            "Epoch 10/50\n",
            "313/313 [==============================] - 4s 12ms/step - loss: 1.8647\n",
            "Epoch 11/50\n",
            "313/313 [==============================] - 4s 12ms/step - loss: 1.8510\n",
            "Epoch 12/50\n",
            "313/313 [==============================] - 4s 12ms/step - loss: 1.8399\n",
            "Epoch 13/50\n",
            "313/313 [==============================] - 4s 11ms/step - loss: 1.8293\n",
            "Epoch 14/50\n",
            "313/313 [==============================] - 4s 12ms/step - loss: 1.8202\n",
            "Epoch 15/50\n",
            "313/313 [==============================] - 4s 12ms/step - loss: 1.8132\n",
            "Epoch 16/50\n",
            "313/313 [==============================] - 4s 12ms/step - loss: 1.8051\n",
            "Epoch 17/50\n",
            "313/313 [==============================] - 4s 12ms/step - loss: 1.8009\n",
            "Epoch 18/50\n",
            "313/313 [==============================] - 3s 11ms/step - loss: 1.7957\n",
            "Epoch 19/50\n",
            "313/313 [==============================] - 3s 11ms/step - loss: 1.7868\n",
            "Epoch 20/50\n",
            "313/313 [==============================] - 4s 12ms/step - loss: 1.7828\n",
            "Epoch 21/50\n",
            "313/313 [==============================] - 4s 12ms/step - loss: 1.7803\n",
            "Epoch 22/50\n",
            "313/313 [==============================] - 4s 12ms/step - loss: 1.7753\n",
            "Epoch 23/50\n",
            "313/313 [==============================] - 4s 11ms/step - loss: 1.7719\n",
            "Epoch 24/50\n",
            "313/313 [==============================] - 4s 11ms/step - loss: 1.7662\n",
            "Epoch 25/50\n",
            "313/313 [==============================] - 4s 12ms/step - loss: 1.7651\n",
            "Epoch 26/50\n",
            "313/313 [==============================] - 4s 12ms/step - loss: 1.7610\n",
            "Epoch 27/50\n",
            "313/313 [==============================] - 4s 12ms/step - loss: 1.7568\n",
            "Epoch 28/50\n",
            "313/313 [==============================] - 3s 11ms/step - loss: 1.7553\n",
            "Epoch 29/50\n",
            "313/313 [==============================] - 3s 11ms/step - loss: 1.7518\n",
            "Epoch 30/50\n",
            "313/313 [==============================] - 4s 12ms/step - loss: 1.7511\n",
            "Epoch 31/50\n",
            "313/313 [==============================] - 3s 11ms/step - loss: 1.7467\n",
            "Epoch 32/50\n",
            "313/313 [==============================] - 4s 11ms/step - loss: 1.7441\n",
            "Epoch 33/50\n",
            "313/313 [==============================] - 4s 12ms/step - loss: 1.7407\n",
            "Epoch 34/50\n",
            "313/313 [==============================] - 4s 12ms/step - loss: 1.7388\n",
            "Epoch 35/50\n",
            "313/313 [==============================] - 4s 12ms/step - loss: 1.7376\n",
            "Epoch 36/50\n",
            "313/313 [==============================] - 4s 12ms/step - loss: 1.7343\n",
            "Epoch 37/50\n",
            "313/313 [==============================] - 4s 12ms/step - loss: 1.7343\n",
            "Epoch 38/50\n",
            "313/313 [==============================] - 4s 12ms/step - loss: 1.7304\n",
            "Epoch 39/50\n",
            "313/313 [==============================] - 4s 12ms/step - loss: 1.7286\n",
            "Epoch 40/50\n",
            "313/313 [==============================] - 4s 12ms/step - loss: 1.7275\n",
            "Epoch 41/50\n",
            "313/313 [==============================] - 4s 12ms/step - loss: 1.7249\n",
            "Epoch 42/50\n",
            "313/313 [==============================] - 4s 12ms/step - loss: 1.7249\n",
            "Epoch 43/50\n",
            "313/313 [==============================] - 4s 12ms/step - loss: 1.7246\n",
            "Epoch 44/50\n",
            "313/313 [==============================] - 4s 13ms/step - loss: 1.7228\n",
            "Epoch 45/50\n",
            "313/313 [==============================] - 4s 12ms/step - loss: 1.7202\n",
            "Epoch 46/50\n",
            "313/313 [==============================] - 4s 12ms/step - loss: 1.7190\n",
            "Epoch 47/50\n",
            "313/313 [==============================] - 4s 13ms/step - loss: 1.7174\n",
            "Epoch 48/50\n",
            "313/313 [==============================] - 4s 12ms/step - loss: 1.7185\n",
            "Epoch 49/50\n",
            "313/313 [==============================] - 4s 12ms/step - loss: 1.7140\n",
            "Epoch 50/50\n",
            "313/313 [==============================] - 4s 12ms/step - loss: 1.7159\n"
          ],
          "name": "stdout"
        }
      ]
    },
    {
      "cell_type": "markdown",
      "metadata": {
        "id": "aFh_dx33cIy_"
      },
      "source": [
        "# 16.2 감성 분석"
      ]
    },
    {
      "cell_type": "markdown",
      "metadata": {
        "id": "3jkjQUB7cIy_"
      },
      "source": [
        "## IMDb 리뷰 데이터셋\n",
        " - 영어로 쓰인 영화 리뷰 50,000개로 구성\n",
        " - 유명한 인터넷 영화 데이터 베이스에서 추출한 것으로 각 리뷰가 긍정적인지 부정적인지 나타내닌 이진 타깃 포함"
      ]
    },
    {
      "cell_type": "code",
      "metadata": {
        "colab": {
          "base_uri": "https://localhost:8080/"
        },
        "id": "id1dzxAYcIy_",
        "outputId": "90084e07-4da6-487d-8cb9-91bfb30ef423"
      },
      "source": [
        "#이미 전처리 되어 있는 데이터셋\n",
        "(X_train, y_train), (X_test, y_test) = keras.datasets.imdb.load_data()\n",
        "X_train[0][:10]"
      ],
      "execution_count": 29,
      "outputs": [
        {
          "output_type": "stream",
          "text": [
            "Downloading data from https://storage.googleapis.com/tensorflow/tf-keras-datasets/imdb.npz\n",
            "17465344/17464789 [==============================] - 0s 0us/step\n"
          ],
          "name": "stdout"
        },
        {
          "output_type": "execute_result",
          "data": {
            "text/plain": [
              "[1, 14, 22, 16, 43, 530, 973, 1622, 1385, 65]"
            ]
          },
          "metadata": {
            "tags": []
          },
          "execution_count": 29
        }
      ]
    },
    {
      "cell_type": "markdown",
      "metadata": {
        "id": "uTgYQczXcIy_"
      },
      "source": [
        "* X_train은 리뷰들의 리스트\n",
        " - 각 리뷰는 넘파이 정수 배열로 표현\n",
        " - 각 정수는 하나의 단어\n",
        " - 구두점을 모두 제거하고 단어는 소문자로 변환한 다음 공백으로 나누어 빈도에 따라 인덱스르르 붙인다.\n",
        " - 정수 0, 1, 2는 각각 패딩 토큰, SOS(Start-Of-Sequence), 알 수 없는 단어"
      ]
    },
    {
      "cell_type": "code",
      "metadata": {
        "colab": {
          "base_uri": "https://localhost:8080/",
          "height": 90
        },
        "id": "Jv9UMqoFcIy_",
        "outputId": "d39004d7-5a38-4432-9add-418c5f88313b"
      },
      "source": [
        "#디코딩\n",
        "word_index = keras.datasets.imdb.get_word_index()\n",
        "id_to_word = {id_ + 3: word for word, id_ in word_index.items()}\n",
        "for id_, token in enumerate((\"<pad>\", \"<sos>\", \"<unk>\")):\n",
        "    id_to_word[id_] = token\n",
        "\" \".join([id_to_word[id_] for id_ in X_train[0][:10]])"
      ],
      "execution_count": 30,
      "outputs": [
        {
          "output_type": "stream",
          "text": [
            "Downloading data from https://storage.googleapis.com/tensorflow/tf-keras-datasets/imdb_word_index.json\n",
            "1646592/1641221 [==============================] - 0s 0us/step\n"
          ],
          "name": "stdout"
        },
        {
          "output_type": "execute_result",
          "data": {
            "application/vnd.google.colaboratory.intrinsic+json": {
              "type": "string"
            },
            "text/plain": [
              "'<sos> this film was just brilliant casting location scenery story'"
            ]
          },
          "metadata": {
            "tags": []
          },
          "execution_count": 30
        }
      ]
    },
    {
      "cell_type": "markdown",
      "metadata": {
        "id": "9KFOi4MtcIy_"
      },
      "source": [
        "* 공백을 사용해 단어 경계를 구분\n",
        "* 하지만 모든 언어가 이런 식으로 공백을 사용하진 않기 때문에 제한이 많고 항상 최선의 방버이 아니다.\n",
        "* 그래서 더 좋은 방법으로 단어(Subword)수준으로 텍스트를 토큰화하거나 복원하는 비지도 학습 방법이 있다.\n",
        " - 공백을 하나의 문자로 취급하기 때문에 언어 독립적\n",
        " - 모델이 이전에 본 적이 없는 단어를 만나더라도 의미를 추측할 수 있다.\n",
        "* 다른 방법으로는 부분 단어를 인코딩하는 방법도 있다."
      ]
    },
    {
      "cell_type": "code",
      "metadata": {
        "colab": {
          "base_uri": "https://localhost:8080/",
          "height": 390,
          "referenced_widgets": [
            "5e6ab88427c646daa4939536dcefc498",
            "c3737a4a9c624109b7b25c522a7fb012",
            "6e3ff3b3f17e484ba3e976d9ab5dac78",
            "28cc733c2b414040b6dd4f645a284e5c",
            "82cbd31116b847c69ff37d8ad4bdab49",
            "a01112cfc4474d789f2e1ac5fc9a65b2",
            "3f9f8700c0a44af598802ab2c3fbfe89",
            "ba0b7e278dc44b36aad08d6cbbd04beb",
            "632410c4b14f492eb2d251b38d582ffa",
            "073cc1e09a5d4a719258a2aa2467efb0",
            "f0b813d0ceab451da94220da65fe2b6e",
            "4dd94d798b47405b89e9d9b55d676507",
            "e8bb796e506541b19a37ab84388a5d74",
            "52d56ddc068c4857998197a4ea6f4195",
            "35efba397b204d11b0a1da2800235718",
            "ac1dd35e76164f13b59b9c052920c1eb",
            "284eeca8878a4088aefde7687222d197",
            "28fb24acab1043efac6a4ca49775d85e",
            "9e05595ad1204f3299eee55798e4077c",
            "ed30792721aa4397ae0be9f8c21e34e3",
            "87bd951a3a8549829c0f65207b9b36ed",
            "ea7ef6a134e5465aaac80cc9a3db1d94",
            "2abe39822e5f4d7db3bcbd92661a44e6",
            "8043958d03eb47c4a2c7a8344e863839",
            "21344ffdab9d4d79a59cbc97e285ea39",
            "b7c604e8a50a4541a33fbc562d7672e7",
            "2ec80d103bc44a71a5058ef7e721f3dd",
            "9d3a7af9a15249ae84afef16820977a6",
            "78aff8ca91a946d99889f6cfbf4f2d11",
            "554fd60d08544bc0ba05dfe78f4a525a",
            "05abc466511342cabb83d4cdc98b911e",
            "abfbda2058be491fb353ac6d88c03fba",
            "447e7a5efa374f5893d5d61e15f29557",
            "d16e0c1338f34d08bd877feb2fd11b08",
            "75886ebad0584b93aef245062aee4817",
            "8092493efdb747a1b74464c3eade3305",
            "bf7a8b53f76c4deda99b4b2d7a4362db",
            "4fa86a04b92242b9a48205b2f28cdf26",
            "ccaddb5af2b642588f3aeca699cf25f9",
            "fdad60a6b0e3411988deeea8206fec5d",
            "548c1d08cc2b40bb9295d2e8330024f1",
            "656450e9b170493e82a83ddd8b9ac8a9",
            "058e499937f541f3a24b3b685602a257",
            "bd8495f505ec492d9cb179a3c7429174",
            "a33e0e1fb46f4bbeb32aa9a494a70f56",
            "1de7aaed75dc4b2b97b711a0fc4a4639",
            "39355428379b409ca695a7dcd1f710f6",
            "2308b4fe2abc4756b8240f61cc50df49",
            "4b7b0befad784309a4ec4b5fe08c10b0",
            "29050c3cd18349f19419ebe83e0c5eac",
            "873ca4dbae27404eb5c621b2a4e7253b",
            "947e658aa2f047cab3839df4041ec7be",
            "4311305eeda7494cbc370a5cb2618e20",
            "b0470e9f765340168f72f2ff57e857bd",
            "56facf7d6d8045d5af4e05d41f35153d",
            "78be6a791b4e49968b71f9bb08c3d227",
            "02b0d5af1d5a4116a10fddbe9b2e8525",
            "a4dc2f9ac9754f9da1f07ef07312d792",
            "ae63bac680aa4e27978b96aa56c65e50",
            "f689b0d265764400bdc7524cccda6a9e",
            "5f761028744f448bbb990841ba7acd44",
            "1544eaaf0d664e5481d26a477e7ed84f",
            "18fe52bf0d1844f6ae4105429640afb2",
            "b1665d299ad643358f81e27b16c6a557"
          ]
        },
        "id": "vStDy71YcIy_",
        "outputId": "b30caab9-0251-4d7c-b3c0-01a1085da361"
      },
      "source": [
        "# 전처리를 모델 자치에 포함\n",
        "import tensorflow_datasets as tfds\n",
        "datasets, info = tfds.load(\"imdb_reviews\", as_supervised=True, with_info=True)\n",
        "datasets.keys()"
      ],
      "execution_count": 31,
      "outputs": [
        {
          "output_type": "stream",
          "text": [
            "\u001b[1mDownloading and preparing dataset imdb_reviews/plain_text/1.0.0 (download: 80.23 MiB, generated: Unknown size, total: 80.23 MiB) to /root/tensorflow_datasets/imdb_reviews/plain_text/1.0.0...\u001b[0m\n"
          ],
          "name": "stdout"
        },
        {
          "output_type": "display_data",
          "data": {
            "application/vnd.jupyter.widget-view+json": {
              "model_id": "5e6ab88427c646daa4939536dcefc498",
              "version_minor": 0,
              "version_major": 2
            },
            "text/plain": [
              "HBox(children=(FloatProgress(value=1.0, bar_style='info', description='Dl Completed...', max=1.0, style=Progre…"
            ]
          },
          "metadata": {
            "tags": []
          }
        },
        {
          "output_type": "display_data",
          "data": {
            "application/vnd.jupyter.widget-view+json": {
              "model_id": "632410c4b14f492eb2d251b38d582ffa",
              "version_minor": 0,
              "version_major": 2
            },
            "text/plain": [
              "HBox(children=(FloatProgress(value=1.0, bar_style='info', description='Dl Size...', max=1.0, style=ProgressSty…"
            ]
          },
          "metadata": {
            "tags": []
          }
        },
        {
          "output_type": "stream",
          "text": [
            "\n",
            "\n",
            "\n",
            "\n"
          ],
          "name": "stdout"
        },
        {
          "output_type": "display_data",
          "data": {
            "application/vnd.jupyter.widget-view+json": {
              "model_id": "284eeca8878a4088aefde7687222d197",
              "version_minor": 0,
              "version_major": 2
            },
            "text/plain": [
              "HBox(children=(FloatProgress(value=1.0, bar_style='info', max=1.0), HTML(value='')))"
            ]
          },
          "metadata": {
            "tags": []
          }
        },
        {
          "output_type": "stream",
          "text": [
            "\rShuffling and writing examples to /root/tensorflow_datasets/imdb_reviews/plain_text/1.0.0.incompleteGO6NGG/imdb_reviews-train.tfrecord\n"
          ],
          "name": "stdout"
        },
        {
          "output_type": "display_data",
          "data": {
            "application/vnd.jupyter.widget-view+json": {
              "model_id": "21344ffdab9d4d79a59cbc97e285ea39",
              "version_minor": 0,
              "version_major": 2
            },
            "text/plain": [
              "HBox(children=(FloatProgress(value=0.0, max=25000.0), HTML(value='')))"
            ]
          },
          "metadata": {
            "tags": []
          }
        },
        {
          "output_type": "stream",
          "text": [
            "\r"
          ],
          "name": "stdout"
        },
        {
          "output_type": "display_data",
          "data": {
            "application/vnd.jupyter.widget-view+json": {
              "model_id": "447e7a5efa374f5893d5d61e15f29557",
              "version_minor": 0,
              "version_major": 2
            },
            "text/plain": [
              "HBox(children=(FloatProgress(value=1.0, bar_style='info', max=1.0), HTML(value='')))"
            ]
          },
          "metadata": {
            "tags": []
          }
        },
        {
          "output_type": "stream",
          "text": [
            "\rShuffling and writing examples to /root/tensorflow_datasets/imdb_reviews/plain_text/1.0.0.incompleteGO6NGG/imdb_reviews-test.tfrecord\n"
          ],
          "name": "stdout"
        },
        {
          "output_type": "display_data",
          "data": {
            "application/vnd.jupyter.widget-view+json": {
              "model_id": "548c1d08cc2b40bb9295d2e8330024f1",
              "version_minor": 0,
              "version_major": 2
            },
            "text/plain": [
              "HBox(children=(FloatProgress(value=0.0, max=25000.0), HTML(value='')))"
            ]
          },
          "metadata": {
            "tags": []
          }
        },
        {
          "output_type": "stream",
          "text": [
            "\r"
          ],
          "name": "stdout"
        },
        {
          "output_type": "display_data",
          "data": {
            "application/vnd.jupyter.widget-view+json": {
              "model_id": "4b7b0befad784309a4ec4b5fe08c10b0",
              "version_minor": 0,
              "version_major": 2
            },
            "text/plain": [
              "HBox(children=(FloatProgress(value=1.0, bar_style='info', max=1.0), HTML(value='')))"
            ]
          },
          "metadata": {
            "tags": []
          }
        },
        {
          "output_type": "stream",
          "text": [
            "\rShuffling and writing examples to /root/tensorflow_datasets/imdb_reviews/plain_text/1.0.0.incompleteGO6NGG/imdb_reviews-unsupervised.tfrecord\n"
          ],
          "name": "stdout"
        },
        {
          "output_type": "display_data",
          "data": {
            "application/vnd.jupyter.widget-view+json": {
              "model_id": "02b0d5af1d5a4116a10fddbe9b2e8525",
              "version_minor": 0,
              "version_major": 2
            },
            "text/plain": [
              "HBox(children=(FloatProgress(value=0.0, max=50000.0), HTML(value='')))"
            ]
          },
          "metadata": {
            "tags": []
          }
        },
        {
          "output_type": "stream",
          "text": [
            "WARNING:absl:Dataset is using deprecated text encoder API which will be removed soon. Please use the plain_text version of the dataset and migrate to `tensorflow_text`.\n"
          ],
          "name": "stderr"
        },
        {
          "output_type": "stream",
          "text": [
            "\u001b[1mDataset imdb_reviews downloaded and prepared to /root/tensorflow_datasets/imdb_reviews/plain_text/1.0.0. Subsequent calls will reuse this data.\u001b[0m\n",
            "\r"
          ],
          "name": "stdout"
        },
        {
          "output_type": "execute_result",
          "data": {
            "text/plain": [
              "dict_keys(['test', 'train', 'unsupervised'])"
            ]
          },
          "metadata": {
            "tags": []
          },
          "execution_count": 31
        }
      ]
    },
    {
      "cell_type": "code",
      "metadata": {
        "colab": {
          "base_uri": "https://localhost:8080/"
        },
        "id": "M6pTRAAAcIy_",
        "outputId": "0c34ec4f-3699-49c7-b422-94fb86e66c67"
      },
      "source": [
        "train_size = info.splits[\"train\"].num_examples\n",
        "test_size = info.splits[\"test\"].num_examples\n",
        "train_size, test_size"
      ],
      "execution_count": 32,
      "outputs": [
        {
          "output_type": "execute_result",
          "data": {
            "text/plain": [
              "(25000, 25000)"
            ]
          },
          "metadata": {
            "tags": []
          },
          "execution_count": 32
        }
      ]
    },
    {
      "cell_type": "code",
      "metadata": {
        "colab": {
          "base_uri": "https://localhost:8080/"
        },
        "id": "hoVpL-aFcIy_",
        "outputId": "6b2d7660-516a-43b5-bb03-71c57424a754"
      },
      "source": [
        "for X_batch, y_batch in datasets[\"train\"].batch(2).take(1):\n",
        "    for review, label in zip(X_batch.numpy(), y_batch.numpy()):\n",
        "        print(\"Review:\", review.decode(\"utf-8\")[:200], \"...\")\n",
        "        print(\"Label:\", label, \"= Positive\" if label else \"= Negative\")\n",
        "        print()"
      ],
      "execution_count": 33,
      "outputs": [
        {
          "output_type": "stream",
          "text": [
            "Review: This was an absolutely terrible movie. Don't be lured in by Christopher Walken or Michael Ironside. Both are great actors, but this must simply be their worst role in history. Even their great acting  ...\n",
            "Label: 0 = Negative\n",
            "\n",
            "Review: I have been known to fall asleep during films, but this is usually due to a combination of things including, really tired, being warm and comfortable on the sette and having just eaten a lot. However  ...\n",
            "Label: 0 = Negative\n",
            "\n"
          ],
          "name": "stdout"
        }
      ]
    },
    {
      "cell_type": "code",
      "metadata": {
        "id": "PkQth587cIy_"
      },
      "source": [
        "# 전처리 함수\n",
        "def preprocess(X_batch, y_batch):\n",
        "    X_batch = tf.strings.substr(X_batch, 0, 300)\n",
        "    X_batch = tf.strings.regex_replace(X_batch, rb\"<br\\s*/?>\", b\" \")\n",
        "    X_batch = tf.strings.regex_replace(X_batch, b\"[^a-zA-Z']\", b\" \")\n",
        "    X_batch = tf.strings.split(X_batch)\n",
        "    return X_batch.to_tensor(default_value=b\"<pad>\"), y_batch"
      ],
      "execution_count": 34,
      "outputs": []
    },
    {
      "cell_type": "code",
      "metadata": {
        "colab": {
          "base_uri": "https://localhost:8080/"
        },
        "id": "dJ3S_rmrcIy_",
        "outputId": "b2802d26-e5dc-467a-ff7b-208be4356088"
      },
      "source": [
        "preprocess(X_batch, y_batch)"
      ],
      "execution_count": 35,
      "outputs": [
        {
          "output_type": "execute_result",
          "data": {
            "text/plain": [
              "(<tf.Tensor: shape=(2, 53), dtype=string, numpy=\n",
              " array([[b'This', b'was', b'an', b'absolutely', b'terrible', b'movie',\n",
              "         b\"Don't\", b'be', b'lured', b'in', b'by', b'Christopher',\n",
              "         b'Walken', b'or', b'Michael', b'Ironside', b'Both', b'are',\n",
              "         b'great', b'actors', b'but', b'this', b'must', b'simply', b'be',\n",
              "         b'their', b'worst', b'role', b'in', b'history', b'Even',\n",
              "         b'their', b'great', b'acting', b'could', b'not', b'redeem',\n",
              "         b'this', b\"movie's\", b'ridiculous', b'storyline', b'This',\n",
              "         b'movie', b'is', b'an', b'early', b'nineties', b'US',\n",
              "         b'propaganda', b'pi', b'<pad>', b'<pad>', b'<pad>'],\n",
              "        [b'I', b'have', b'been', b'known', b'to', b'fall', b'asleep',\n",
              "         b'during', b'films', b'but', b'this', b'is', b'usually', b'due',\n",
              "         b'to', b'a', b'combination', b'of', b'things', b'including',\n",
              "         b'really', b'tired', b'being', b'warm', b'and', b'comfortable',\n",
              "         b'on', b'the', b'sette', b'and', b'having', b'just', b'eaten',\n",
              "         b'a', b'lot', b'However', b'on', b'this', b'occasion', b'I',\n",
              "         b'fell', b'asleep', b'because', b'the', b'film', b'was',\n",
              "         b'rubbish', b'The', b'plot', b'development', b'was', b'constant',\n",
              "         b'Cons']], dtype=object)>,\n",
              " <tf.Tensor: shape=(2,), dtype=int64, numpy=array([0, 0])>)"
            ]
          },
          "metadata": {
            "tags": []
          },
          "execution_count": 35
        }
      ]
    },
    {
      "cell_type": "markdown",
      "metadata": {
        "id": "YsbMVeuwcIy_"
      },
      "source": [
        "* 전처리 함수\n",
        " - 리뷰 텍스트를 잘라내어 각 리뷰에서 처음 300글자만 남긴다.\n",
        " - 정규식을 사용해 <br />태그를 공백으로 바꾼다.\n",
        " - 문자와 작은 따옴표가 아닌 다른 모든 문자를 공백으로 바꾼다.\n",
        " - 리뷰는 공백으로 나눈다. 이때 래그드 텐서(ragged tensor)가 반환\n",
        " - 이 래그드 텐서를 밀집 텐서로 바꾸고 동일한 길이가 되도록 패딩 토큰 \"pad\" 로 모든 리뷰를 패딩"
      ]
    },
    {
      "cell_type": "code",
      "metadata": {
        "id": "E3PVIyTwcIy_"
      },
      "source": [
        "from collections import Counter\n",
        "\n",
        "vocabulary = Counter()\n",
        "for X_batch, y_batch in datasets[\"train\"].batch(32).map(preprocess):\n",
        "    for review in X_batch:\n",
        "        vocabulary.update(list(review.numpy()))"
      ],
      "execution_count": 36,
      "outputs": []
    },
    {
      "cell_type": "markdown",
      "metadata": {
        "id": "ckY6mJpkcIy_"
      },
      "source": [
        "* 어휘 사전 구축\n",
        " - 전체 훈련 세트를 한 번 순회하면서 preprocess() 함수를 적용하고 Counter로 단어의 등장 횟수를 센다."
      ]
    },
    {
      "cell_type": "code",
      "metadata": {
        "colab": {
          "base_uri": "https://localhost:8080/"
        },
        "id": "-WX1GQS7cIy_",
        "outputId": "3eedcb2b-b925-4351-bed4-9e0e2f4223f2"
      },
      "source": [
        "vocabulary.most_common()[:3]"
      ],
      "execution_count": 37,
      "outputs": [
        {
          "output_type": "execute_result",
          "data": {
            "text/plain": [
              "[(b'<pad>', 214309), (b'the', 61137), (b'a', 38564)]"
            ]
          },
          "metadata": {
            "tags": []
          },
          "execution_count": 37
        }
      ]
    },
    {
      "cell_type": "code",
      "metadata": {
        "colab": {
          "base_uri": "https://localhost:8080/"
        },
        "id": "1qo4gMKbcIy_",
        "outputId": "b2b90215-9215-4933-9495-bd020ef4946c"
      },
      "source": [
        "len(vocabulary)"
      ],
      "execution_count": 38,
      "outputs": [
        {
          "output_type": "execute_result",
          "data": {
            "text/plain": [
              "53893"
            ]
          },
          "metadata": {
            "tags": []
          },
          "execution_count": 38
        }
      ]
    },
    {
      "cell_type": "code",
      "metadata": {
        "id": "92mzBwIicIy_"
      },
      "source": [
        "vocab_size = 10000\n",
        "truncated_vocabulary = [\n",
        "    word for word, count in vocabulary.most_common()[:vocab_size]]"
      ],
      "execution_count": 39,
      "outputs": []
    },
    {
      "cell_type": "markdown",
      "metadata": {
        "id": "31SH5W3_cIzA"
      },
      "source": [
        "* 어휘 사전 중에서 가장 많이 등장하는 단어 10,000개만 남기고 삭제"
      ]
    },
    {
      "cell_type": "code",
      "metadata": {
        "id": "QRupF_nCcIzA"
      },
      "source": [
        "words = tf.constant(truncated_vocabulary)\n",
        "word_ids = tf.range(len(truncated_vocabulary), dtype=tf.int64)\n",
        "vocab_init = tf.lookup.KeyValueTensorInitializer(words, word_ids)\n",
        "num_oov_buckets = 1000\n",
        "table = tf.lookup.StaticVocabularyTable(vocab_init, num_oov_buckets)"
      ],
      "execution_count": 40,
      "outputs": []
    },
    {
      "cell_type": "markdown",
      "metadata": {
        "id": "_uaEINQJcIzA"
      },
      "source": [
        "* 각 단어를 ID로 바꾸는 전처리 단계\n",
        " - 1,000 개의 oov 버킷을 사용하는 룩업 테이블을 만든다."
      ]
    },
    {
      "cell_type": "code",
      "metadata": {
        "colab": {
          "base_uri": "https://localhost:8080/"
        },
        "id": "KmShog2PcIzA",
        "outputId": "43550f0d-82a0-4650-a410-5f89f24fecdc"
      },
      "source": [
        "table.lookup(tf.constant([b\"This movie was faaaaaantastic\".split()]))"
      ],
      "execution_count": 41,
      "outputs": [
        {
          "output_type": "execute_result",
          "data": {
            "text/plain": [
              "<tf.Tensor: shape=(1, 4), dtype=int64, numpy=array([[   22,    12,    11, 10053]])>"
            ]
          },
          "metadata": {
            "tags": []
          },
          "execution_count": 41
        }
      ]
    },
    {
      "cell_type": "code",
      "metadata": {
        "id": "N-rsU6ZKcIzA"
      },
      "source": [
        "def encode_words(X_batch, y_batch):\n",
        "    return table.lookup(X_batch), y_batch\n",
        "\n",
        "train_set = datasets[\"train\"].repeat().batch(32).map(preprocess)\n",
        "train_set = train_set.map(encode_words).prefetch(1)"
      ],
      "execution_count": 42,
      "outputs": []
    },
    {
      "cell_type": "markdown",
      "metadata": {
        "id": "Rx9F-jxKcIzA"
      },
      "source": [
        "* 리뷰를 배치로 묶고 preprocess()함수를 사용해 단어의 짧은 시퀀스로 바꾼다.\n",
        "* 앞서 만든 테이블을 사용하는 encode_words() 함수로 단어를 인코딩한다.\n",
        "* 다음 배치를 프리페치한다."
      ]
    },
    {
      "cell_type": "code",
      "metadata": {
        "colab": {
          "base_uri": "https://localhost:8080/"
        },
        "id": "Ha0idXzlcIzA",
        "outputId": "c7bb03a2-efa5-4d3e-d83e-b71e1703c68b"
      },
      "source": [
        "embed_size = 128\n",
        "model = keras.models.Sequential([\n",
        "    keras.layers.Embedding(vocab_size + num_oov_buckets, embed_size,\n",
        "                           mask_zero=True, # not shown in the book\n",
        "                           input_shape=[None]),\n",
        "    keras.layers.GRU(128, return_sequences=True),\n",
        "    keras.layers.GRU(128),\n",
        "    keras.layers.Dense(1, activation=\"sigmoid\")\n",
        "])\n",
        "model.compile(loss=\"binary_crossentropy\", optimizer=\"adam\", metrics=[\"accuracy\"])\n",
        "history = model.fit(train_set, steps_per_epoch=train_size // 32, epochs=5)"
      ],
      "execution_count": 43,
      "outputs": [
        {
          "output_type": "stream",
          "text": [
            "Epoch 1/5\n",
            "781/781 [==============================] - 24s 31ms/step - loss: 0.5377 - accuracy: 0.7217\n",
            "Epoch 2/5\n",
            "781/781 [==============================] - 24s 30ms/step - loss: 0.3482 - accuracy: 0.8553\n",
            "Epoch 3/5\n",
            "781/781 [==============================] - 24s 30ms/step - loss: 0.1880 - accuracy: 0.9357\n",
            "Epoch 4/5\n",
            "781/781 [==============================] - 23s 30ms/step - loss: 0.1235 - accuracy: 0.9573\n",
            "Epoch 5/5\n",
            "781/781 [==============================] - 23s 30ms/step - loss: 0.1081 - accuracy: 0.9604\n"
          ],
          "name": "stdout"
        }
      ]
    },
    {
      "cell_type": "markdown",
      "metadata": {
        "id": "GMKFyFTbcIzA"
      },
      "source": [
        "* 모델 훈련\n",
        " - 첫 번째 층은 단어 ID를 임베딩으로 변환하는 Embedding층\n",
        "   - 임베딩 행렬은 단어 ID당(vocab_size + num_oov_buckets) 하나의 행과 임베딩 차원당 하나의 열을 가진다.\n",
        " - 모델의 입력은 [배치크기, 타임 스텝 수] 크기를 가진 2D 텐서이지만 Embedding 층의 출력은 [배치 크기, 타임 스텝수, 임베딩 크기] 크기를 가진 3D 텐서가 된다.\n",
        " - 모델의 나머지 부분은 GRU 층 두개로 구성되고, 두 번째 층은 마지막 타임 스텝의 출력만 반환한다.\n",
        " - 출력층은 시그모이드 활성화 함수를 사용하는 하나의 뉴런으로, 리뷰가 영화에 대한 긍정적인 감정을 표현하는지에 대한 추정 확률을 출력한다."
      ]
    },
    {
      "cell_type": "markdown",
      "metadata": {
        "id": "od0lsRWhcIzA"
      },
      "source": [
        "## 16.2.1 마스킹"
      ]
    },
    {
      "cell_type": "markdown",
      "metadata": {
        "id": "mon_RmMPcIzB"
      },
      "source": [
        "* 원래 데이터 그대로 모델이 패딩 토큰을 무시하도록 학습되어야 한다.\n",
        "* 하지만 이미 무시할 토큰을 알고 있다면, 패딩 토큰을 무시하도록 모델에게 알려주어 실제 의미가 있는 데이터에 집중할 수 있게 만든다.\n",
        " - Embedding 층을 만들 때 mask_zero = True 매개변수를 추가하면 된다.\n",
        " - 구체적으로 Embedding 층이 K.not_equal(inputs, 0)와 같은 마스크 텐서를 만든다.\n",
        " - 이 텐서는 입력과 크기가 같은 불리언 텐서이다.\n",
        " - ID가 0인 위치는 False이고 나머지 True이다.\n",
        " - 일반적으로 마스킹된 타임 스텝을 무시한다."
      ]
    },
    {
      "cell_type": "code",
      "metadata": {
        "colab": {
          "base_uri": "https://localhost:8080/"
        },
        "id": "WdGhskIPcIzB",
        "outputId": "8625ba5c-8463-42a6-aa01-ee93e888a416"
      },
      "source": [
        "K = keras.backend\n",
        "embed_size = 128\n",
        "inputs = keras.layers.Input(shape=[None])\n",
        "mask = keras.layers.Lambda(lambda inputs: K.not_equal(inputs, 0))(inputs)\n",
        "z = keras.layers.Embedding(vocab_size + num_oov_buckets, embed_size)(inputs)\n",
        "z = keras.layers.GRU(128, return_sequences=True)(z, mask=mask)\n",
        "z = keras.layers.GRU(128)(z, mask=mask)\n",
        "outputs = keras.layers.Dense(1, activation=\"sigmoid\")(z)\n",
        "model = keras.models.Model(inputs=[inputs], outputs=[outputs])\n",
        "model.compile(loss=\"binary_crossentropy\", optimizer=\"adam\", metrics=[\"accuracy\"])\n",
        "history = model.fit(train_set, steps_per_epoch=train_size // 32, epochs=5)"
      ],
      "execution_count": 44,
      "outputs": [
        {
          "output_type": "stream",
          "text": [
            "Epoch 1/5\n",
            "781/781 [==============================] - 23s 30ms/step - loss: 0.5373 - accuracy: 0.7226\n",
            "Epoch 2/5\n",
            "781/781 [==============================] - 24s 30ms/step - loss: 0.3503 - accuracy: 0.8553\n",
            "Epoch 3/5\n",
            "781/781 [==============================] - 23s 30ms/step - loss: 0.1905 - accuracy: 0.9321\n",
            "Epoch 4/5\n",
            "781/781 [==============================] - 23s 30ms/step - loss: 0.1458 - accuracy: 0.9471\n",
            "Epoch 5/5\n",
            "781/781 [==============================] - 23s 30ms/step - loss: 0.1126 - accuracy: 0.9602\n"
          ],
          "name": "stdout"
        }
      ]
    },
    {
      "cell_type": "markdown",
      "metadata": {
        "id": "8uAP1Bf-cIzB"
      },
      "source": [
        "* 마스킹 층과 마스크 자동 전파는 Sequential 모델에 가장 잘 맞는다.\n",
        "* Conv1D층과 순환 층을 섞는 것과 같이 복잡한 모델에서는 항상 작동하지 않는다."
      ]
    },
    {
      "cell_type": "markdown",
      "metadata": {
        "id": "aLB5C2qUcIzB"
      },
      "source": [
        "## 16.2.2 사전훈련된 임베딩 재사용하기"
      ]
    },
    {
      "cell_type": "markdown",
      "metadata": {
        "id": "K_Qp0folcIzB"
      },
      "source": [
        "* 텐서플로 허브 프로젝트는 사전훈련된 모델 컴포넌트를 모델에 추가하기 쉽게 만들어준다.\n",
        "* 이런 모델 컴포넌트를 모듈(Module)이라 부른다."
      ]
    },
    {
      "cell_type": "code",
      "metadata": {
        "id": "abRdVq60cIzB"
      },
      "source": [
        "# nnlm-en-dim50 문장 임베딩 모듈 버전 1을 감성 분석 모델에 사용\n",
        "import tensorflow_hub as hub\n",
        "\n",
        "model = keras.Sequential([\n",
        "    hub.KerasLayer(\"https://tfhub.dev/google/tf2-preview/nnlm-en-dim50/1\",\n",
        "                   dtype=tf.string, input_shape=[], output_shape=[50]),\n",
        "    keras.layers.Dense(128, activation=\"relu\"),\n",
        "    keras.layers.Dense(1, activation=\"sigmoid\")\n",
        "])\n",
        "model.compile(loss=\"binary_crossentropy\", optimizer=\"adam\",\n",
        "              metrics=[\"accuracy\"])"
      ],
      "execution_count": 45,
      "outputs": []
    },
    {
      "cell_type": "markdown",
      "metadata": {
        "id": "4EmP8Da9cIzB"
      },
      "source": [
        "* hub.KerasLayer 층이 주어인 URL에서 모듈을 다운로드, 이 모듈의 이름은 문자 인코더(Sentence Encoder)이다.\n",
        " - 문자열을 입력으로 받아 하나의 벡터로 인코딩\n",
        " - 내부적으로는 문자열을 파싱해서 대규모 코퍼스에서 사전훈련된 임베딩 행렬을 사용해 각 단어를 임베딩\n",
        " - 그 다음 모든 단어 임베딩의 평균을 계산. 이 결과가 문장 임베딩\n",
        "* 그 다음 두 개의 Dense층을 추가해 감성 분석 모델을 만든다."
      ]
    },
    {
      "cell_type": "code",
      "metadata": {
        "colab": {
          "base_uri": "https://localhost:8080/"
        },
        "id": "oSW14Tc4cIzB",
        "outputId": "7fc6a11b-51b6-46a3-d908-cfb228907363"
      },
      "source": [
        "import tensorflow_datasets as tfds\n",
        "\n",
        "datasets, info = tfds.load(\"imdb_reviews\", as_supervised=True, with_info=True)\n",
        "train_size = info.splits[\"train\"].num_examples\n",
        "batch_size = 32\n",
        "train_set = datasets[\"train\"].repeat().batch(batch_size).prefetch(1)\n",
        "history = model.fit(train_set, steps_per_epoch=train_size // batch_size, epochs=5)"
      ],
      "execution_count": 46,
      "outputs": [
        {
          "output_type": "stream",
          "text": [
            "Epoch 1/5\n",
            "781/781 [==============================] - 5s 6ms/step - loss: 0.5450 - accuracy: 0.7283\n",
            "Epoch 2/5\n",
            "781/781 [==============================] - 5s 6ms/step - loss: 0.5135 - accuracy: 0.7479\n",
            "Epoch 3/5\n",
            "781/781 [==============================] - 4s 6ms/step - loss: 0.5087 - accuracy: 0.7518\n",
            "Epoch 4/5\n",
            "781/781 [==============================] - 4s 6ms/step - loss: 0.5050 - accuracy: 0.7534\n",
            "Epoch 5/5\n",
            "781/781 [==============================] - 4s 6ms/step - loss: 0.5021 - accuracy: 0.7563\n"
          ],
          "name": "stdout"
        }
      ]
    },
    {
      "cell_type": "markdown",
      "metadata": {
        "id": "aaZvyNTocIzB"
      },
      "source": [
        "# 16.3 신경망 기계 번역을 위한 인코더-디코더 네트워크"
      ]
    },
    {
      "cell_type": "markdown",
      "metadata": {
        "id": "IPHMLvCycIzB"
      },
      "source": [
        "* 영어 문장을 인코더로 주입하면 디코더는 프랑스어 번역을 출력한다.\n",
        "* 번역은 한 스텝 뒤쳐져서 디코더의 입력으로도 사용된다.\n",
        "* 다르게 말하면 디코더는 이전 스텝에서 출력된 단어를 입력으로 사용한다\n",
        " - 맨 처음 단어는 SOS(Start-Of-Sequence)토큰으로 시작된다.\n",
        " - 디코더는 문장의 끝에 EOS(End-Of-Sequence)토큰이 있을 것으로 기대한다."
      ]
    },
    {
      "cell_type": "markdown",
      "metadata": {
        "id": "D4mNORzecIzB"
      },
      "source": [
        "* 모델을 구현하기위해 처리할 것\n",
        " - 문장을 비슷한 길이의 버킷으로 그룹핑한다.\n",
        " - 버킷에 담긴 문장이 모두 동일한 길이가 되도록 패딩을 추가한다.\n",
        "* EOS 토큰 이후 출력은 모두 무시한다.\n",
        " - 이 토큰들은 손실에 영향을 미치지 않는다.\n",
        "* 출력 어휘 사전이 방대할 경우 모든 단어의 확률을 출력하려면 매우 느려진다.\n",
        " - 큰 벡터에서 소프트맥스 함수를 계산하는 것은 연산 비용이 매우 높다.\n",
        " - 이를 피하기 위한 한 가지 방법으로 타깃 단어에 대한 로짓과 타킷이 아닌 단어 중 무작위로 샘플링한 단어의 로짓만 고려하는 샘플링 소프트맥스(Sampled Softmax)이다."
      ]
    },
    {
      "cell_type": "code",
      "metadata": {
        "id": "5fz-HHp4cIzB"
      },
      "source": [
        "vocab_size = 100\n",
        "embed_size = 10"
      ],
      "execution_count": 47,
      "outputs": []
    },
    {
      "cell_type": "code",
      "metadata": {
        "id": "7grLOSd4cIzB"
      },
      "source": [
        "import tensorflow_addons as tfa\n",
        "\n",
        "encoder_inputs = keras.layers.Input(shape=[None], dtype=np.int32)\n",
        "decoder_inputs = keras.layers.Input(shape=[None], dtype=np.int32)\n",
        "sequence_lengths = keras.layers.Input(shape=[], dtype=np.int32)\n",
        "\n",
        "embeddings = keras.layers.Embedding(vocab_size, embed_size)\n",
        "encoder_embeddings = embeddings(encoder_inputs)\n",
        "decoder_embeddings = embeddings(decoder_inputs)\n",
        "\n",
        "encoder = keras.layers.LSTM(512, return_state=True)\n",
        "encoder_outputs, state_h, state_c = encoder(encoder_embeddings)\n",
        "encoder_state = [state_h, state_c]\n",
        "\n",
        "sampler = tfa.seq2seq.sampler.TrainingSampler()\n",
        "\n",
        "decoder_cell = keras.layers.LSTMCell(512)\n",
        "output_layer = keras.layers.Dense(vocab_size)\n",
        "decoder = tfa.seq2seq.basic_decoder.BasicDecoder(decoder_cell, sampler,\n",
        "                                                 output_layer=output_layer)\n",
        "final_outputs, final_state, final_sequence_lengths = decoder(\n",
        "    decoder_embeddings, initial_state=encoder_state,\n",
        "    sequence_length=sequence_lengths)\n",
        "Y_proba = tf.nn.softmax(final_outputs.rnn_output)\n",
        "\n",
        "model = keras.models.Model(\n",
        "    inputs=[encoder_inputs, decoder_inputs, sequence_lengths],\n",
        "    outputs=[Y_proba])"
      ],
      "execution_count": 48,
      "outputs": []
    },
    {
      "cell_type": "code",
      "metadata": {
        "id": "jEncVZpocIzB"
      },
      "source": [
        "model.compile(loss=\"sparse_categorical_crossentropy\", optimizer=\"adam\")"
      ],
      "execution_count": 49,
      "outputs": []
    },
    {
      "cell_type": "code",
      "metadata": {
        "colab": {
          "base_uri": "https://localhost:8080/"
        },
        "id": "MjX31PKScIzB",
        "outputId": "8ede99ac-38d2-4784-d70c-c60742626b12"
      },
      "source": [
        "X = np.random.randint(100, size=10*1000).reshape(1000, 10)\n",
        "Y = np.random.randint(100, size=15*1000).reshape(1000, 15)\n",
        "X_decoder = np.c_[np.zeros((1000, 1)), Y[:, :-1]]\n",
        "seq_lengths = np.full([1000], 15)\n",
        "\n",
        "history = model.fit([X, X_decoder, seq_lengths], Y, epochs=2)"
      ],
      "execution_count": 50,
      "outputs": [
        {
          "output_type": "stream",
          "text": [
            "Epoch 1/2\n",
            "32/32 [==============================] - 1s 37ms/step - loss: 4.6052\n",
            "Epoch 2/2\n",
            "32/32 [==============================] - 1s 39ms/step - loss: 4.6025\n"
          ],
          "name": "stdout"
        }
      ]
    },
    {
      "cell_type": "markdown",
      "metadata": {
        "id": "A_0S6VFRcIzB"
      },
      "source": [
        "* 인코더-디코더 모델\n",
        " - LSTM층을 만들 때 최종 은닉 상태를 디코더로 보내기 위해 return_state=True로 지정\n",
        " - LSTM셀을 사용하기 때문에 은닉 상태 두개(단기, 장기)를 반환\n",
        " - TrainingSampler는 각 스텝에서 디코더에게 이전 스텝의 출력이 무엇인지를 알려준다.\n",
        " - 추론 시에는 실제로 출력되는 토큰의 임베딩이 된다.\n",
        " - 훈련 시에는 이전 타깃 토큰의 임베딩이 되어야한다.\n",
        "* ScheduledEmbddingTrainingSampler는 타깃과 실제 출력 사이에서 무작위로 선택하며 훈련하는 동안 점진적으로 확률을 바꿀 수 있다."
      ]
    },
    {
      "cell_type": "markdown",
      "metadata": {
        "id": "KhLacNg4cIzB"
      },
      "source": [
        "## 16.3.1 양방향 RNN"
      ]
    },
    {
      "cell_type": "markdown",
      "metadata": {
        "id": "-oEW1g2ocIzB"
      },
      "source": [
        "* 각 타임 스텝에서 일반적인 순환 층은 과거와 현재의 입력만 보고 출력을 생성한다.\n",
        " - 이런 종류의 RNN은 시계열을 예측할 때 적합하지만 신경망 기계 번역 같은 여러 종류의 NLP 작업에는 맞지 않는다.\n",
        " - 이런 작업은 주어진 단어를 인코딩하기 전에 다음 단어를 미리 보는 것이 좋다.\n",
        " - 이를 위해 동일한 입력에 대해 두 개의 순환 층을 실행한다.\n",
        "* 양방향 순환 층(Bidirectional Recurrent Layer)\n",
        " - 하나는 왼쪽에서 오른쪽으로 단어를 읽고, 다른 하나는 오른쪽에서 왼쪽으로 읽는다.\n",
        " - 그다음 일반적으로 타임 스텝마다 이 두 출력을 연결한다."
      ]
    },
    {
      "cell_type": "code",
      "metadata": {
        "colab": {
          "base_uri": "https://localhost:8080/"
        },
        "id": "0PQFd8e4cIzB",
        "outputId": "e604bb8b-22db-4c38-87b5-03111985fa8e"
      },
      "source": [
        "model = keras.models.Sequential([\n",
        "    keras.layers.GRU(10, return_sequences=True, input_shape=[None, 10]),\n",
        "    keras.layers.Bidirectional(keras.layers.GRU(10, return_sequences=True))\n",
        "])\n",
        "\n",
        "model.summary()"
      ],
      "execution_count": 51,
      "outputs": [
        {
          "output_type": "stream",
          "text": [
            "Model: \"sequential_4\"\n",
            "_________________________________________________________________\n",
            "Layer (type)                 Output Shape              Param #   \n",
            "=================================================================\n",
            "gru_8 (GRU)                  (None, None, 10)          660       \n",
            "_________________________________________________________________\n",
            "bidirectional (Bidirectional (None, None, 20)          1320      \n",
            "=================================================================\n",
            "Total params: 1,980\n",
            "Trainable params: 1,980\n",
            "Non-trainable params: 0\n",
            "_________________________________________________________________\n"
          ],
          "name": "stdout"
        }
      ]
    },
    {
      "cell_type": "markdown",
      "metadata": {
        "id": "KCAPYDDdcIzB"
      },
      "source": [
        "## 16.3.2 빔 검색"
      ]
    },
    {
      "cell_type": "markdown",
      "metadata": {
        "id": "uhR_cCu5cIzB"
      },
      "source": [
        "* 스텝마다 무조건 가장 가능성 있는 단어를 출력해서 최적의 번역을 만들지 못한다. 그래서 이 실수를 고치기 위해\n",
        "\n",
        "* 빔 검색 (Beam Search)\n",
        " - k개의 가능성 있는 문장의 리스트를 유지하고, 디코더 단계마다 이 문장의 단어를 하나씩 생성하여 가능성 있는 k개의 문장을 만든다.\n",
        " - 이 파라미터 k를 빔 너비(Beam Width)라고 부른다."
      ]
    },
    {
      "cell_type": "markdown",
      "metadata": {
        "id": "zIjT5tsWdpFQ"
      },
      "source": [
        "# 16.4 어텐션 메커니즘"
      ]
    },
    {
      "cell_type": "markdown",
      "metadata": {
        "id": "WCx5dVfJdvf4"
      },
      "source": [
        "* 각 타임스텝에서(인코더에 의해 인코딩하여) 적절한 단어에 디코더가 초점을 맞추도록 하는 기술\n",
        "* 입력 단어에서 번역까지 경로가 훨씬 짧아지는 것을 의미하므로 RNN의 단기 기억의 제한성에 훨씬 적은 영향을 받게 된다.\n",
        "* 어텐션 메커니즘은 신경망 기계 번역에 큰 변화를 만들었고, 툭히 긴 문장에 대해서 최고 수준의 성능을 크게 향상했다.\n",
        "* 모델 구조\n",
        " - 인코더의 마지막 은닉 상태만 디코더에 보내는 것이 아니라 인코더의 모든 출력을 디코더로 전송한다.\n",
        " - 각 타임 스텝에서 디코더의 메모리 셀은 이런 모든 인코더 출력의 가중치 합을 전송한다.\n",
        " - 이 단계에서 주의를 집중할 단어를 결정한다.\n",
        " - 디코더의 나머지 부분은 앞서 본 것과 동일하게 작동한다.\n",
        " - 타임 스텝마다 메모리 셀이 앞서 언급한 입력과 이전 타임 스텝의 은닉 상태를 받는다.\n",
        " - 마지막으로 이전 타임 스텝에서 타깃 단어를 받는다.\n",
        "\n",
        "* 가중치는 어디에서 오는가?\n",
        " - 정렬 모델(Alignment Model) 또는 어텐션 층 이라 부르는 작은 신경망에 의해 생성된다.\n",
        " - 이 모델은 인코더-디코너 모델의 나머지 부분과 함께 훈련된다.\n",
        " - TimeDistributed 클래스를 적용한 Dense층으로 시작\n",
        " - 이 층은 하나의 뉴런으로 구성되고 인코더의 모든 출력을 입력으로 받아 디코더의 이전 은닉 상태를 연결한다.\n",
        " - 이 층은 각 인코더 출력에 대한 점수를 출력한다.\n",
        " - 이 점수는 각 출력이 디코더의 은닉 상태와 얼마나 잘 맞는지를 측정한다.\n",
        " - 마지막으로 모든 점수가 스포트맥스 층을 통과해 각 인코더 출력에 대한 최종 가중치를 얻는다.\n",
        "\n",
        "* 이런 어텐션 메커니즘을 바흐다나우 어텐션(Bahdanau Attention) 또는 인코더의 출력과 디코더의 이전 은닉 상태를 연결하기 때문에 연결 어텐션(Conccatenative Attention)이라고도 부른다"
      ]
    },
    {
      "cell_type": "markdown",
      "metadata": {
        "id": "wkaE1GL_hZhy"
      },
      "source": [
        "* 루옹 어텐션(Luong Attention) / 곱셈 어텐션(Multiplicative Attention)\n",
        "\n",
        " - 인코더의 출력 하나와 디코더의 이전 은닉 상태 사이의 유사도를 측정\n",
        " - 두 벡터 사이의 점곱을 통한 유사도 측정\n",
        " - 점곱으로 하나의 점수를 만든 후, 이 점수가 소프트맥스 층을 통과해 최종 가중치를 만든다."
      ]
    },
    {
      "cell_type": "code",
      "metadata": {
        "colab": {
          "base_uri": "https://localhost:8080/",
          "height": 239
        },
        "id": "jCjyGW5vdrn2",
        "outputId": "8e74fa12-46a8-422e-c4c7-903e273f2bed"
      },
      "source": [
        "attention_mechanism = tfa.seq2seq.attention_wrapper.LoungAttention(\n",
        "    units, encoder_state, memory_sequence_length = encoder_sequence_length)\n",
        "attention_decoder_cell = tfa.seq2seq.attention_wrapper.AttentionWrapper(\n",
        "    decoder_cell, attention_mechanism, attention_layer_size=n_units)"
      ],
      "execution_count": 52,
      "outputs": [
        {
          "output_type": "error",
          "ename": "AttributeError",
          "evalue": "ignored",
          "traceback": [
            "\u001b[0;31m---------------------------------------------------------------------------\u001b[0m",
            "\u001b[0;31mAttributeError\u001b[0m                            Traceback (most recent call last)",
            "\u001b[0;32m<ipython-input-52-72d27d3c7f91>\u001b[0m in \u001b[0;36m<module>\u001b[0;34m()\u001b[0m\n\u001b[0;32m----> 1\u001b[0;31m attention_mechanism = tfa.seq2seq.attention_wrapper.LoungAttention(\n\u001b[0m\u001b[1;32m      2\u001b[0m     units, encoder_state, memory_sequence_length = encoder_sequence_length)\n\u001b[1;32m      3\u001b[0m attention_decoder_cell = tfa.seq2seq.attention_wrapper.AttentionWrapper(\n\u001b[1;32m      4\u001b[0m     decoder_cell, attention_mechanism, attention_layer_size=n_units)\n",
            "\u001b[0;31mAttributeError\u001b[0m: module 'tensorflow_addons.seq2seq.attention_wrapper' has no attribute 'LoungAttention'"
          ]
        }
      ]
    },
    {
      "cell_type": "markdown",
      "metadata": {
        "id": "gco7UyfBidI7"
      },
      "source": [
        "## 16.4.1 비주얼 어텐션"
      ]
    },
    {
      "cell_type": "markdown",
      "metadata": {
        "id": "dNGB7utqifQ8"
      },
      "source": [
        "* 비주얼 어텐션(Visual Attention)을 사용한 이미지 캡션(Caption) 생성\n",
        " - 합성곱 신경망이 먼저 이미지를 처리하여 일련의 특성 맵을 출력\n",
        " - 어텐션 메커니즘을 장착한 디코더 RNN이 한 번에 한 단어씩 캡션을 생성\n",
        " - 디코더 타임 스텝마다 디코더는 어텐션 모델을 사용해 이미지에 적절한 부위에 초점을 맞춘다."
      ]
    },
    {
      "cell_type": "markdown",
      "metadata": {
        "id": "RBepJJQDjTgg"
      },
      "source": [
        "## 16.4.2 트랜스포머 구조 : 어텐션이 필요한 전부다"
      ]
    },
    {
      "cell_type": "markdown",
      "metadata": {
        "id": "wFsaqzrpjX43"
      },
      "source": [
        "* 트랜스포머(Transfomer) 구조\n",
        " - 순환 층, 합성곱 층을 전혀 사용하지 않고 어텐션 메커니즘만 사용해 NMT문제에서 최고 수준 성능을 내는 모델\n",
        " - 왼쪽 부분은 인코더로, 앞에서와 같이 단어 ID의 시퀀스로 표현된 문장의 배치를 입력으로 받는다. 각 단어를 512차원의 표현으로 인코딩한다. 인코딩의 윗부분은 N번 반복되어 쌓아 올린다.\n",
        " - 오른쪽 부분은 디코더로, 훈련하는 동안 타깃 문장을 입력으로 받는다. 이 입력은 오른쪽으로 한 타임 스텝 이동되어 있다. 또한 인코더의 출력을 받는다. 디코더의 윗부분도 N번 반복되어 쌓아올린다. 인코더의 최종 출력이 N번의 디코더에 모두 주입된다. 앞에서와 같이 타임 스텝마다 다코더는 가능한 다음 단어에 대한 확률을 출력한다.\n",
        " - 추론 시에는 디코더에 타깃을 주입할 수 없다. 따라서 이전 타임 스텝에서 출력된 단어를 주입한다. 이 모델이 반복적으로 실행되어 매번 하나의 단어를 예측한다.\n",
        " - 모든 층은 타임 스텝에 독립적이다.\n",
        "* 독립적인 처리로 어떻게 문장을 번역할 수 있는가?\n",
        " - 인코더의 멀티-헤드 어텐션(Multi-Head Attention)층은 관련이 많은 단어에 더 많은 주의를 기울이면서 각 단어와 동일한 문장에 있는 다른 단어의 관계를 인코딩한다.\n",
        " - 셀프 어텐션(Self Attention)은 문장 자기 자신에게 주의를 기울인다.\n",
        " - 위치 인코딩은(Positional Encoding)은 문장에 있는 단어의 위치를 나타내는 단순한 밀집 벡터로, n번째 위치 인코딩이 각 문장에 있는 n번째 단어의 단어 임베딩에 더해진다. 이를 통해 모델이 각 단어의 위치를 알 수 있다."
      ]
    },
    {
      "cell_type": "markdown",
      "metadata": {
        "id": "yTFfQqXhuWnp"
      },
      "source": [
        "* 위치 인코딩\n",
        " - 위치 인코딩은 문장 안에 있는 단어의 위치를 인코딩한 밀집 벡터\n",
        " - 단순히 i번째 위치 인코딩이 문장에 있는 i번째 단어의 단어 임베딩에 더해진다.\n",
        " - 여러 가지 주기의 사인과 코사인 함수로 정의한 고정된 위치 인코딩을 선호했다.\n",
        " - 학습된 위치 임베딩과 동일한 성능을 내면서 임의의 긴 문장으로 확장할 수 있기 때문에 많이 사용된다.\n",
        " - 위치마다 고유한 위치 인코딩이 만들어지기 때문에 위치 인코딩을 단어 임베딩에 더하면 모델이 문장에 있는 단어의 절대 위치를 알 수 있다.\n",
        " - 진동 함수 선택에 따라 모델이 상대적인 위치도 학습할 수 있다."
      ]
    },
    {
      "cell_type": "markdown",
      "metadata": {
        "id": "MY43zFsElgOj"
      },
      "source": [
        ""
      ]
    },
    {
      "cell_type": "code",
      "metadata": {
        "id": "rtNWtkPFie0E"
      },
      "source": [
        "class PositionalEncoding(keras.layers.Layer):\n",
        "    def __init__(self, max_steps, max_dims, dtype=tf.float32, **kwargs):\n",
        "        super().__init__(dtype=dtype, **kwargs)\n",
        "        if max_dims % 2 == 1: max_dims += 1 # max_dims must be even\n",
        "        p, i = np.meshgrid(np.arange(max_steps), np.arange(max_dims // 2))\n",
        "        pos_emb = np.empty((1, max_steps, max_dims))\n",
        "        pos_emb[0, :, ::2] = np.sin(p / 10000**(2 * i / max_dims)).T\n",
        "        pos_emb[0, :, 1::2] = np.cos(p / 10000**(2 * i / max_dims)).T\n",
        "        self.positional_embedding = tf.constant(pos_emb.astype(self.dtype))\n",
        "    def call(self, inputs):\n",
        "        shape = tf.shape(inputs)\n",
        "        return inputs + self.positional_embedding[:, :shape[-2], :shape[-1]]"
      ],
      "execution_count": 53,
      "outputs": []
    },
    {
      "cell_type": "code",
      "metadata": {
        "id": "tBs_jxmpvWCF"
      },
      "source": [
        "max_steps = 201\n",
        "max_dims = 512\n",
        "pos_emb = PositionalEncoding(max_steps, max_dims)\n",
        "PE = pos_emb(np.zeros((1, max_steps, max_dims), np.float32))[0].numpy()"
      ],
      "execution_count": 54,
      "outputs": []
    },
    {
      "cell_type": "code",
      "metadata": {
        "colab": {
          "base_uri": "https://localhost:8080/",
          "height": 348
        },
        "id": "T0xCzoq5vYKj",
        "outputId": "780b6909-58c4-489f-cb6b-2af838b67ad0"
      },
      "source": [
        "i1, i2, crop_i = 100, 101, 150\n",
        "p1, p2, p3 = 22, 60, 35\n",
        "fig, (ax1, ax2) = plt.subplots(nrows=2, ncols=1, sharex=True, figsize=(9, 5))\n",
        "ax1.plot([p1, p1], [-1, 1], \"k--\", label=\"$p = {}$\".format(p1))\n",
        "ax1.plot([p2, p2], [-1, 1], \"k--\", label=\"$p = {}$\".format(p2), alpha=0.5)\n",
        "ax1.plot(p3, PE[p3, i1], \"bx\", label=\"$p = {}$\".format(p3))\n",
        "ax1.plot(PE[:,i1], \"b-\", label=\"$i = {}$\".format(i1))\n",
        "ax1.plot(PE[:,i2], \"r-\", label=\"$i = {}$\".format(i2))\n",
        "ax1.plot([p1, p2], [PE[p1, i1], PE[p2, i1]], \"bo\")\n",
        "ax1.plot([p1, p2], [PE[p1, i2], PE[p2, i2]], \"ro\")\n",
        "ax1.legend(loc=\"center right\", fontsize=14, framealpha=0.95)\n",
        "ax1.set_ylabel(\"$P_{(p,i)}$\", rotation=0, fontsize=16)\n",
        "ax1.grid(True, alpha=0.3)\n",
        "ax1.hlines(0, 0, max_steps - 1, color=\"k\", linewidth=1, alpha=0.3)\n",
        "ax1.axis([0, max_steps - 1, -1, 1])\n",
        "ax2.imshow(PE.T[:crop_i], cmap=\"gray\", interpolation=\"bilinear\", aspect=\"auto\")\n",
        "ax2.hlines(i1, 0, max_steps - 1, color=\"b\")\n",
        "cheat = 2 # need to raise the red line a bit, or else it hides the blue one\n",
        "ax2.hlines(i2+cheat, 0, max_steps - 1, color=\"r\")\n",
        "ax2.plot([p1, p1], [0, crop_i], \"k--\")\n",
        "ax2.plot([p2, p2], [0, crop_i], \"k--\", alpha=0.5)\n",
        "ax2.plot([p1, p2], [i2+cheat, i2+cheat], \"ro\")\n",
        "ax2.plot([p1, p2], [i1, i1], \"bo\")\n",
        "ax2.axis([0, max_steps - 1, 0, crop_i])\n",
        "ax2.set_xlabel(\"$p$\", fontsize=16)\n",
        "ax2.set_ylabel(\"$i$\", rotation=0, fontsize=16)\n",
        "plt.show()"
      ],
      "execution_count": 55,
      "outputs": [
        {
          "output_type": "display_data",
          "data": {
            "image/png": "[encoded data removed]",
            "text/plain": [
              "<Figure size 648x360 with 2 Axes>"
            ]
          },
          "metadata": {
            "tags": [],
            "needs_background": "light"
          }
        }
      ]
    },
    {
      "cell_type": "code",
      "metadata": {
        "id": "81lBIb8ov3mY"
      },
      "source": [
        "embed_size = 512; max_steps = 500; vocab_size = 10000\n",
        "encoder_inputs = keras.layers.Input(shape=[None], dtype=np.int32)\n",
        "decoder_inputs = keras.layers.Input(shape=[None], dtype=np.int32)\n",
        "embeddings = keras.layers.Embedding(vocab_size, embed_size)\n",
        "encoder_embeddings = embeddings(encoder_inputs)\n",
        "decoder_embeddings = embeddings(decoder_inputs)\n",
        "positional_encoding = PositionalEncoding(max_steps, max_dims=embed_size)\n",
        "encoder_in = positional_encoding(encoder_embeddings)\n",
        "decoder_in = positional_encoding(decoder_embeddings)"
      ],
      "execution_count": 56,
      "outputs": []
    },
    {
      "cell_type": "markdown",
      "metadata": {
        "id": "TZIqeFHlv02o"
      },
      "source": [
        "* 멀티-헤드 어텐션\n",
        " - 스케일드 점-곱 어텐션(Scaled dot-product Attention) : 인코더가 입력 문장을 분석하여 주어, 동사등을 이해하려고 한다. 인코더는 이 정보를 단어의 표현에 인코딩한다.\n",
        " - 멀티-헤드 어텐션은 스케일드 점-곱 어텐션 층의 묶음\n",
        " - 각 층은 값, 키, 쿼리의 선형 변환이 선행된다.\n",
        " - 출력은 단순히 모두 연결되어 마지막 선형 변환을 통과한다."
      ]
    },
    {
      "cell_type": "code",
      "metadata": {
        "id": "6jJ1oboNvaVu"
      },
      "source": [
        "#트랜스포머 모델의 나머지 부분\n",
        "Z = encoder_in\n",
        "for N in range(6):\n",
        "    Z = keras.layers.Attention(use_scale=True)([Z, Z])\n",
        "\n",
        "encoder_outputs = Z\n",
        "Z = decoder_in\n",
        "for N in range(6):\n",
        "    Z = keras.layers.Attention(use_scale=True, causal=True)([Z, Z])\n",
        "    Z = keras.layers.Attention(use_scale=True)([Z, encoder_outputs])\n",
        "\n",
        "outputs = keras.layers.TimeDistributed(\n",
        "    keras.layers.Dense(vocab_size, activation=\"softmax\"))(Z)"
      ],
      "execution_count": 57,
      "outputs": []
    },
    {
      "cell_type": "code",
      "metadata": {
        "id": "wuXIKktEw6_x"
      },
      "source": [
        "K = keras.backend\n",
        "\n",
        "class MultiHeadAttention(keras.layers.Layer):\n",
        "    def __init__(self, n_heads, causal=False, use_scale=False, **kwargs):\n",
        "        self.n_heads = n_heads\n",
        "        self.causal = causal\n",
        "        self.use_scale = use_scale\n",
        "        super().__init__(**kwargs)\n",
        "    def build(self, batch_input_shape):\n",
        "        self.dims = batch_input_shape[0][-1]\n",
        "        self.q_dims, self.v_dims, self.k_dims = [self.dims // self.n_heads] * 3 # could be hyperparameters instead\n",
        "        self.q_linear = keras.layers.Conv1D(self.n_heads * self.q_dims, kernel_size=1, use_bias=False)\n",
        "        self.v_linear = keras.layers.Conv1D(self.n_heads * self.v_dims, kernel_size=1, use_bias=False)\n",
        "        self.k_linear = keras.layers.Conv1D(self.n_heads * self.k_dims, kernel_size=1, use_bias=False)\n",
        "        self.attention = keras.layers.Attention(causal=self.causal, use_scale=self.use_scale)\n",
        "        self.out_linear = keras.layers.Conv1D(self.dims, kernel_size=1, use_bias=False)\n",
        "        super().build(batch_input_shape)\n",
        "    def _multi_head_linear(self, inputs, linear):\n",
        "        shape = K.concatenate([K.shape(inputs)[:-1], [self.n_heads, -1]])\n",
        "        projected = K.reshape(linear(inputs), shape)\n",
        "        perm = K.permute_dimensions(projected, [0, 2, 1, 3])\n",
        "        return K.reshape(perm, [shape[0] * self.n_heads, shape[1], -1])\n",
        "    def call(self, inputs):\n",
        "        q = inputs[0]\n",
        "        v = inputs[1]\n",
        "        k = inputs[2] if len(inputs) > 2 else v\n",
        "        shape = K.shape(q)\n",
        "        q_proj = self._multi_head_linear(q, self.q_linear)\n",
        "        v_proj = self._multi_head_linear(v, self.v_linear)\n",
        "        k_proj = self._multi_head_linear(k, self.k_linear)\n",
        "        multi_attended = self.attention([q_proj, v_proj, k_proj])\n",
        "        shape_attended = K.shape(multi_attended)\n",
        "        reshaped_attended = K.reshape(multi_attended, [shape[0], self.n_heads, shape_attended[1], shape_attended[2]])\n",
        "        perm = K.permute_dimensions(reshaped_attended, [0, 2, 1, 3])\n",
        "        concat = K.reshape(perm, [shape[0], shape_attended[1], -1])\n",
        "        return self.out_linear(concat)"
      ],
      "execution_count": 62,
      "outputs": []
    },
    {
      "cell_type": "code",
      "metadata": {
        "colab": {
          "base_uri": "https://localhost:8080/"
        },
        "id": "MR82bA_nwhqI",
        "outputId": "d8482a33-72fd-41c7-e36c-bddfe1c40031"
      },
      "source": [
        "Q = np.random.rand(2, 50, 512)\n",
        "V = np.random.rand(2, 80, 512)\n",
        "multi_attn = MultiHeadAttention(8)\n",
        "multi_attn([Q, V]).shape"
      ],
      "execution_count": 63,
      "outputs": [
        {
          "output_type": "stream",
          "text": [
            "WARNING:tensorflow:Layer multi_head_attention is casting an input tensor from dtype float64 to the layer's dtype of float32, which is new behavior in TensorFlow 2.  The layer has dtype float32 because its dtype defaults to floatx.\n",
            "\n",
            "If you intended to run this layer in float32, you can safely ignore this warning. If in doubt, this warning is likely only an issue if you are porting a TensorFlow 1.X model to TensorFlow 2.\n",
            "\n",
            "To change all layers to have dtype float64 by default, call `tf.keras.backend.set_floatx('float64')`. To change just this layer, pass dtype='float64' to the layer constructor. If you are the author of this layer, you can disable autocasting by passing autocast=False to the base Layer constructor.\n",
            "\n"
          ],
          "name": "stdout"
        },
        {
          "output_type": "stream",
          "text": [
            "WARNING:tensorflow:Layer multi_head_attention is casting an input tensor from dtype float64 to the layer's dtype of float32, which is new behavior in TensorFlow 2.  The layer has dtype float32 because its dtype defaults to floatx.\n",
            "\n",
            "If you intended to run this layer in float32, you can safely ignore this warning. If in doubt, this warning is likely only an issue if you are porting a TensorFlow 1.X model to TensorFlow 2.\n",
            "\n",
            "To change all layers to have dtype float64 by default, call `tf.keras.backend.set_floatx('float64')`. To change just this layer, pass dtype='float64' to the layer constructor. If you are the author of this layer, you can disable autocasting by passing autocast=False to the base Layer constructor.\n",
            "\n"
          ],
          "name": "stderr"
        },
        {
          "output_type": "execute_result",
          "data": {
            "text/plain": [
              "TensorShape([2, 50, 512])"
            ]
          },
          "metadata": {
            "tags": []
          },
          "execution_count": 63
        }
      ]
    },
    {
      "cell_type": "code",
      "metadata": {
        "id": "DdWsQaKpw4ba"
      },
      "source": [
        ""
      ],
      "execution_count": null,
      "outputs": []
    }
  ]
}