{
  "nbformat": 4,
  "nbformat_minor": 0,
  "metadata": {
    "colab": {
      "name": "17장 오토인코더와 GAN을 사용한 표현 학습과 생성적 학습.ipynb",
      "provenance": [],
      "authorship_tag": "ABX9TyM2oUIjTInoAHUKctHjDWma"
    },
    "kernelspec": {
      "name": "python3",
      "display_name": "Python 3"
    }
  },
  "cells": [
    {
      "cell_type": "code",
      "metadata": {
        "id": "os_FIAjqPYdQ"
      },
      "source": [
        ""
      ],
      "execution_count": null,
      "outputs": []
    }
  ]
}